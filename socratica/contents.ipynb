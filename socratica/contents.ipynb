{
 "metadata": {
  "language_info": {
   "codemirror_mode": {
    "name": "ipython",
    "version": 3
   },
   "file_extension": ".py",
   "mimetype": "text/x-python",
   "name": "python",
   "nbconvert_exporter": "python",
   "pygments_lexer": "ipython3",
   "version": "3.7.7-final"
  },
  "orig_nbformat": 2,
  "kernelspec": {
   "name": "python3",
   "display_name": "Python 3"
  }
 },
 "nbformat": 4,
 "nbformat_minor": 2,
 "cells": [
  {
   "source": [
    "# Exploring `os` to Generate a Table of Contents\n",
    "\n",
    "The `os` [📖 [docs](https://docs.python.org/3/library/os.html)] module should provide the means to generate table-of-contents data from the files in this directory. Knowing that `*.ipynb` files are just JSON files, the plan should move forward with these steps:\n",
    "\n",
    "1. enumerate the files in this current directory, filtering out `*.ipynb` files\n",
    "2. load a `*.ipynb` file and return the first markdown cell\n",
    "3. extract the document title from the markdown cell\n",
    "4. cache the document title in a list\n",
    "5. display the list"
   ],
   "cell_type": "markdown",
   "metadata": {}
  },
  {
   "source": [
    "## 1."
   ],
   "cell_type": "markdown",
   "metadata": {}
  },
  {
   "cell_type": "code",
   "execution_count": 1,
   "metadata": {},
   "outputs": [
    {
     "output_type": "execute_result",
     "data": {
      "text/plain": "['video-01.ipynb',\n 'video-02.ipynb',\n 'video-03.ipynb',\n 'video-04.ipynb',\n 'video-05.ipynb',\n 'video-06.ipynb',\n 'video-07.ipynb',\n 'video-08.ipynb',\n 'video-09.ipynb',\n 'video-10.ipynb',\n 'video-11.ipynb',\n 'video-12.ipynb',\n 'video-13.ipynb',\n 'video-14.ipynb',\n 'video-15.ipynb',\n 'video-16.ipynb',\n 'video-17.ipynb',\n 'video-18.ipynb',\n 'video-19.ipynb',\n 'video-20.ipynb',\n 'video-21.ipynb',\n 'video-22.ipynb',\n 'video-23.ipynb',\n 'video-24.ipynb',\n 'video-25.ipynb',\n 'video-26.ipynb',\n 'video-27.ipynb',\n 'video-28.ipynb',\n 'video-29.ipynb',\n 'video-30.ipynb',\n 'video-31.ipynb',\n 'video-32.ipynb',\n 'video-33.ipynb']"
     },
     "metadata": {},
     "execution_count": 1
    }
   ],
   "source": [
    "from os import walk\n",
    "\n",
    "file_list = [file_names for (dir_path, dir_names, file_names) in walk('./')][-1]\n",
    "\n",
    "ipynb_list = [f for f in file_list if f.startswith('video') and f.endswith('.ipynb')]\n",
    "\n",
    "ipynb_list.sort()\n",
    "\n",
    "ipynb_list"
   ]
  },
  {
   "source": [
    "## 2, 3, 4, 5."
   ],
   "cell_type": "markdown",
   "metadata": {}
  },
  {
   "cell_type": "code",
   "execution_count": 2,
   "metadata": {
    "tags": []
   },
   "outputs": [
    {
     "output_type": "execute_result",
     "data": {
      "text/plain": "['## #1 Learn Python with Socratica\\n\\n[[🔗 link](https://github.com/BryanWilhite/guido-van-r-snake/blob/master/socratica/video-01.ipynb)]',\n '## #2 Hello World in Python\\n\\n[[🔗 link](https://github.com/BryanWilhite/guido-van-r-snake/blob/master/socratica/video-02.ipynb)]',\n '## #3 Python Strings\\n\\n[[🔗 link](https://github.com/BryanWilhite/guido-van-r-snake/blob/master/socratica/video-03.ipynb)]',\n '## #4 Numbers in Python Version 2\\n\\n[[🔗 link](https://github.com/BryanWilhite/guido-van-r-snake/blob/master/socratica/video-04.ipynb)]',\n '## #5 Numbers in Python Version 3\\n\\n[[🔗 link](https://github.com/BryanWilhite/guido-van-r-snake/blob/master/socratica/video-05.ipynb)]',\n '## #6 Arithmetic in Python V2\\n\\n[[🔗 link](https://github.com/BryanWilhite/guido-van-r-snake/blob/master/socratica/video-06.ipynb)]',\n '## #7 Arithmetic in Python V3\\n\\n[[🔗 link](https://github.com/BryanWilhite/guido-van-r-snake/blob/master/socratica/video-07.ipynb)]',\n '## #8 Interactive Help\\n\\n[[🔗 link](https://github.com/BryanWilhite/guido-van-r-snake/blob/master/socratica/video-08.ipynb)]',\n '## #9 Python Booleans\\n\\n[[🔗 link](https://github.com/BryanWilhite/guido-van-r-snake/blob/master/socratica/video-09.ipynb)]',\n '## #10 Datetime Module (Dates and Times)\\n\\n[[🔗 link](https://github.com/BryanWilhite/guido-van-r-snake/blob/master/socratica/video-10.ipynb)]',\n '## #11 If, Then, Else in Python\\n\\n[[🔗 link](https://github.com/BryanWilhite/guido-van-r-snake/blob/master/socratica/video-11.ipynb)]',\n '## #12 Python Functions\\n\\n[[🔗 link](https://github.com/BryanWilhite/guido-van-r-snake/blob/master/socratica/video-12.ipynb)]',\n '## #13 Sets in Python\\n\\n[[🔗 link](https://github.com/BryanWilhite/guido-van-r-snake/blob/master/socratica/video-13.ipynb)]',\n '## #14 Python Lists\\n\\n[[🔗 link](https://github.com/BryanWilhite/guido-van-r-snake/blob/master/socratica/video-14.ipynb)]',\n '## #15 Python Dictionaries\\n\\n[[🔗 link](https://github.com/BryanWilhite/guido-van-r-snake/blob/master/socratica/video-15.ipynb)]',\n '## #16 Python Tuples\\n\\n[[🔗 link](https://github.com/BryanWilhite/guido-van-r-snake/blob/master/socratica/video-16.ipynb)]',\n '## #17 Logging in Python\\n\\n[[🔗 link](https://github.com/BryanWilhite/guido-van-r-snake/blob/master/socratica/video-17.ipynb)]',\n '## #18 Recursion, the Fibonacci Sequence and Memoization\\n\\n[[🔗 link](https://github.com/BryanWilhite/guido-van-r-snake/blob/master/socratica/video-18.ipynb)]',\n '## #19 Python Random Number Generator: the Random Module\\n\\n[[🔗 link](https://github.com/BryanWilhite/guido-van-r-snake/blob/master/socratica/video-19.ipynb)]',\n '## #20 CSV Files in Python\\n\\n[[🔗 link](https://github.com/BryanWilhite/guido-van-r-snake/blob/master/socratica/video-20.ipynb)]',\n '## #21 A Random Walk & Monte Carlo Simulation\\n\\n[[🔗 link](https://github.com/BryanWilhite/guido-van-r-snake/blob/master/socratica/video-21.ipynb)]',\n '## #22 List Comprehension\\n\\n[[🔗 link](https://github.com/BryanWilhite/guido-van-r-snake/blob/master/socratica/video-22.ipynb)]',\n '## #23 Python Classes and Objects\\n\\n[[🔗 link](https://github.com/BryanWilhite/guido-van-r-snake/blob/master/socratica/video-23.ipynb)]',\n '## #24 Python and Prime Numbers\\n\\n[[🔗 link](https://github.com/BryanWilhite/guido-van-r-snake/blob/master/socratica/video-24.ipynb)]',\n '## #25 PyDoc—A Celebration of Documentation\\n\\n[[🔗 link](https://github.com/BryanWilhite/guido-van-r-snake/blob/master/socratica/video-25.ipynb)]',\n '## #26 JSON in Python\\n\\n[[🔗 link](https://github.com/BryanWilhite/guido-van-r-snake/blob/master/socratica/video-26.ipynb)]',\n '## #27 Lambda Expressions & Anonymous Functions\\n\\n[[🔗 link](https://github.com/BryanWilhite/guido-van-r-snake/blob/master/socratica/video-27.ipynb)]',\n '## #28 Map, Filter and Reduce Functions\\n\\n[[🔗 link](https://github.com/BryanWilhite/guido-van-r-snake/blob/master/socratica/video-28.ipynb)]',\n '## #29 Sorting in Python\\n\\n[[🔗 link](https://github.com/BryanWilhite/guido-van-r-snake/blob/master/socratica/video-29.ipynb)]',\n '## #30 Text Files in Python\\n\\n[[🔗 link](https://github.com/BryanWilhite/guido-van-r-snake/blob/master/socratica/video-30.ipynb)]',\n '## #31 Unit Tests in Python\\n\\n[[🔗 link](https://github.com/BryanWilhite/guido-van-r-snake/blob/master/socratica/video-31.ipynb)]',\n '## #32 Exceptions in Python\\n\\n[[🔗 link](https://github.com/BryanWilhite/guido-van-r-snake/blob/master/socratica/video-32.ipynb)]',\n '## #33 Urllib—GET Requests\\n\\n[[🔗 link](https://github.com/BryanWilhite/guido-van-r-snake/blob/master/socratica/video-33.ipynb)]']"
     },
     "metadata": {},
     "execution_count": 2
    }
   ],
   "source": [
    "import json\n",
    "\n",
    "prefix = 'https://github.com/BryanWilhite/guido-van-r-snake/blob/master/socratica/'\n",
    "\n",
    "titles = []\n",
    "\n",
    "for file_name in ipynb_list:\n",
    "    with open(f'./{file_name}', 'r', encoding='utf-8') as json_file:\n",
    "        d = json.load(json_file)\n",
    "        l = [s for s in d['cells'][0]['source'] if s.startswith('##')]\n",
    "        titles.append(f'{l[0].strip()}\\n\\n[[🔗 link]({prefix}{file_name})]')\n",
    "\n",
    "titles"
   ]
  },
  {
   "cell_type": "code",
   "execution_count": 3,
   "metadata": {
    "tags": []
   },
   "outputs": [
    {
     "output_type": "stream",
     "name": "stdout",
     "text": "## #1 Learn Python with Socratica\n\n[[🔗 link](https://github.com/BryanWilhite/guido-van-r-snake/blob/master/socratica/video-01.ipynb)]\n\n## #2 Hello World in Python\n\n[[🔗 link](https://github.com/BryanWilhite/guido-van-r-snake/blob/master/socratica/video-02.ipynb)]\n\n## #3 Python Strings\n\n[[🔗 link](https://github.com/BryanWilhite/guido-van-r-snake/blob/master/socratica/video-03.ipynb)]\n\n## #4 Numbers in Python Version 2\n\n[[🔗 link](https://github.com/BryanWilhite/guido-van-r-snake/blob/master/socratica/video-04.ipynb)]\n\n## #5 Numbers in Python Version 3\n\n[[🔗 link](https://github.com/BryanWilhite/guido-van-r-snake/blob/master/socratica/video-05.ipynb)]\n\n## #6 Arithmetic in Python V2\n\n[[🔗 link](https://github.com/BryanWilhite/guido-van-r-snake/blob/master/socratica/video-06.ipynb)]\n\n## #7 Arithmetic in Python V3\n\n[[🔗 link](https://github.com/BryanWilhite/guido-van-r-snake/blob/master/socratica/video-07.ipynb)]\n\n## #8 Interactive Help\n\n[[🔗 link](https://github.com/BryanWilhite/guido-van-r-snake/blob/master/socratica/video-08.ipynb)]\n\n## #9 Python Booleans\n\n[[🔗 link](https://github.com/BryanWilhite/guido-van-r-snake/blob/master/socratica/video-09.ipynb)]\n\n## #10 Datetime Module (Dates and Times)\n\n[[🔗 link](https://github.com/BryanWilhite/guido-van-r-snake/blob/master/socratica/video-10.ipynb)]\n\n## #11 If, Then, Else in Python\n\n[[🔗 link](https://github.com/BryanWilhite/guido-van-r-snake/blob/master/socratica/video-11.ipynb)]\n\n## #12 Python Functions\n\n[[🔗 link](https://github.com/BryanWilhite/guido-van-r-snake/blob/master/socratica/video-12.ipynb)]\n\n## #13 Sets in Python\n\n[[🔗 link](https://github.com/BryanWilhite/guido-van-r-snake/blob/master/socratica/video-13.ipynb)]\n\n## #14 Python Lists\n\n[[🔗 link](https://github.com/BryanWilhite/guido-van-r-snake/blob/master/socratica/video-14.ipynb)]\n\n## #15 Python Dictionaries\n\n[[🔗 link](https://github.com/BryanWilhite/guido-van-r-snake/blob/master/socratica/video-15.ipynb)]\n\n## #16 Python Tuples\n\n[[🔗 link](https://github.com/BryanWilhite/guido-van-r-snake/blob/master/socratica/video-16.ipynb)]\n\n## #17 Logging in Python\n\n[[🔗 link](https://github.com/BryanWilhite/guido-van-r-snake/blob/master/socratica/video-17.ipynb)]\n\n## #18 Recursion, the Fibonacci Sequence and Memoization\n\n[[🔗 link](https://github.com/BryanWilhite/guido-van-r-snake/blob/master/socratica/video-18.ipynb)]\n\n## #19 Python Random Number Generator: the Random Module\n\n[[🔗 link](https://github.com/BryanWilhite/guido-van-r-snake/blob/master/socratica/video-19.ipynb)]\n\n## #20 CSV Files in Python\n\n[[🔗 link](https://github.com/BryanWilhite/guido-van-r-snake/blob/master/socratica/video-20.ipynb)]\n\n## #21 A Random Walk & Monte Carlo Simulation\n\n[[🔗 link](https://github.com/BryanWilhite/guido-van-r-snake/blob/master/socratica/video-21.ipynb)]\n\n## #22 List Comprehension\n\n[[🔗 link](https://github.com/BryanWilhite/guido-van-r-snake/blob/master/socratica/video-22.ipynb)]\n\n## #23 Python Classes and Objects\n\n[[🔗 link](https://github.com/BryanWilhite/guido-van-r-snake/blob/master/socratica/video-23.ipynb)]\n\n## #24 Python and Prime Numbers\n\n[[🔗 link](https://github.com/BryanWilhite/guido-van-r-snake/blob/master/socratica/video-24.ipynb)]\n\n## #25 PyDoc—A Celebration of Documentation\n\n[[🔗 link](https://github.com/BryanWilhite/guido-van-r-snake/blob/master/socratica/video-25.ipynb)]\n\n## #26 JSON in Python\n\n[[🔗 link](https://github.com/BryanWilhite/guido-van-r-snake/blob/master/socratica/video-26.ipynb)]\n\n## #27 Lambda Expressions & Anonymous Functions\n\n[[🔗 link](https://github.com/BryanWilhite/guido-van-r-snake/blob/master/socratica/video-27.ipynb)]\n\n## #28 Map, Filter and Reduce Functions\n\n[[🔗 link](https://github.com/BryanWilhite/guido-van-r-snake/blob/master/socratica/video-28.ipynb)]\n\n## #29 Sorting in Python\n\n[[🔗 link](https://github.com/BryanWilhite/guido-van-r-snake/blob/master/socratica/video-29.ipynb)]\n\n## #30 Text Files in Python\n\n[[🔗 link](https://github.com/BryanWilhite/guido-van-r-snake/blob/master/socratica/video-30.ipynb)]\n\n## #31 Unit Tests in Python\n\n[[🔗 link](https://github.com/BryanWilhite/guido-van-r-snake/blob/master/socratica/video-31.ipynb)]\n\n## #32 Exceptions in Python\n\n[[🔗 link](https://github.com/BryanWilhite/guido-van-r-snake/blob/master/socratica/video-32.ipynb)]\n\n## #33 Urllib—GET Requests\n\n[[🔗 link](https://github.com/BryanWilhite/guido-van-r-snake/blob/master/socratica/video-33.ipynb)]\n"
    }
   ],
   "source": [
    "import functools\n",
    "\n",
    "print(functools.reduce(lambda a, i: f'{a}\\n\\n{i}', titles))"
   ]
  }
 ]
}
