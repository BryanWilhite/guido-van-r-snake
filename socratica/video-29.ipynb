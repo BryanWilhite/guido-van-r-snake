{
 "metadata": {
  "language_info": {
   "codemirror_mode": {
    "name": "ipython",
    "version": 3
   },
   "file_extension": ".py",
   "mimetype": "text/x-python",
   "name": "python",
   "nbconvert_exporter": "python",
   "pygments_lexer": "ipython3",
   "version": "3.7.7-final"
  },
  "orig_nbformat": 2,
  "kernelspec": {
   "name": "python3",
   "display_name": "Python 3"
  }
 },
 "nbformat": 4,
 "nbformat_minor": 2,
 "cells": [
  {
   "source": [
    "# Python Programming Tutorials (Computer Science)\n",
    "\n",
    "The 🦉 [Socratica](https://www.youtube.com/channel/UCW6TXMZ5Pq6yL6_k5NZ2e0Q) YouTube Channel has a 33-video [playlist](https://www.youtube.com/playlist?list=PLi01XoE8jYohWFPpC17Z-wWhPOSuh8Er-) devoted to the introduction of Python.\n",
    "\n",
    "## #29 Sorting in Python"
   ],
   "cell_type": "markdown",
   "metadata": {}
  },
  {
   "cell_type": "code",
   "execution_count": 1,
   "metadata": {},
   "outputs": [],
   "source": [
    "%run video-00.py"
   ]
  },
  {
   "cell_type": "code",
   "execution_count": 2,
   "metadata": {},
   "outputs": [
    {
     "output_type": "execute_result",
     "data": {
      "text/plain": "<IPython.lib.display.YouTubeVideo at 0x7f0de4c2dfd0>",
      "text/html": "\n        <iframe\n            width=\"400\"\n            height=\"300\"\n            src=\"https://www.youtube.com/embed/QtwhlHP_tqc\"\n            frameborder=\"0\"\n            allowfullscreen\n        ></iframe>\n        ",
      "image/jpeg": "[encoded data removed]"
     },
     "metadata": {},
     "execution_count": 2
    },
    {
     "output_type": "execute_result",
     "data": {
      "text/plain": "<IPython.core.display.HTML object>",
      "text/html": "<a href=\"https://www.youtube.com/embed/QtwhlHP_tqc\">link</a>"
     },
     "metadata": {},
     "execution_count": 2
    }
   ],
   "source": [
    "from IPython import display\n",
    "\n",
    "video = display.YouTubeVideo('QtwhlHP_tqc')\n",
    "video\n",
    "display.HTML(f'<a href=\"{video.src}\">link</a>')"
   ]
  },
  {
   "source": [
    "Fom [Wikipedia](https://en.wikipedia.org/wiki/Sorting_algorithm):\n",
    "\n",
    ">In computer science, a sorting algorithm is an algorithm that puts elements of a list in a certain order. The most frequently used orders are numerical order and lexicographical order.\n",
    "\n",
    "Python uses `.sort()` for `list`:"
   ],
   "cell_type": "markdown",
   "metadata": {}
  },
  {
   "cell_type": "code",
   "execution_count": 3,
   "metadata": {
    "tags": []
   },
   "outputs": [
    {
     "output_type": "stream",
     "name": "stdout",
     "text": "Help on method_descriptor:\n\nsort(self, /, *, key=None, reverse=False)\n    Stable sort *IN PLACE*.\n\n"
    }
   ],
   "source": [
    "help(list.sort)"
   ]
  },
  {
   "source": [
    "There is no `.sort()` method in `tuple` or `set` because `tuple` is immutable and `set` is not subscriptable (has no concept of order). In the help documentation above we are introduced to the concept of sorting _in place_ which means the `list` will be mutated in the place a sort it stated.\n",
    "\n",
    "We also see in the help text that the default `key` function for sort is `None` which implies that the items in the list will be used for the sort:"
   ],
   "cell_type": "markdown",
   "metadata": {}
  },
  {
   "cell_type": "code",
   "execution_count": 4,
   "metadata": {},
   "outputs": [
    {
     "output_type": "execute_result",
     "data": {
      "text/plain": "['barium', 'beryllium', 'calcium', 'megnesium', 'radium', 'strontium']"
     },
     "metadata": {},
     "execution_count": 4
    }
   ],
   "source": [
    "# alkaline eart metals\n",
    "earth_metals = [\n",
    "    'beryllium',\n",
    "    'megnesium',\n",
    "    'calcium',\n",
    "    'strontium',\n",
    "    'barium',\n",
    "    'radium',\n",
    "]\n",
    "\n",
    "earth_metals.sort()\n",
    "\n",
    "earth_metals"
   ]
  },
  {
   "source": [
    "The `reverse` argument of `.sort()` can be used to reverse the `list`:"
   ],
   "cell_type": "markdown",
   "metadata": {}
  },
  {
   "cell_type": "code",
   "execution_count": 5,
   "metadata": {},
   "outputs": [
    {
     "output_type": "execute_result",
     "data": {
      "text/plain": "['strontium', 'radium', 'megnesium', 'calcium', 'beryllium', 'barium']"
     },
     "metadata": {},
     "execution_count": 5
    }
   ],
   "source": [
    "earth_metals.sort(reverse=True)\n",
    "\n",
    "earth_metals"
   ]
  },
  {
   "source": [
    "### Sort with `key` Function\n",
    "\n",
    "Here we have a `list` of `tuple`:"
   ],
   "cell_type": "markdown",
   "metadata": {}
  },
  {
   "cell_type": "code",
   "execution_count": 6,
   "metadata": {},
   "outputs": [],
   "source": [
    "# format := (name, radius, density, distance from Sun in AU)\n",
    "\n",
    "planets = [\n",
    "    ('Mercury', 2440, 5.43, 0.395),\n",
    "    ('Venus', 6052, 5.24, 0.723),\n",
    "    ('Earth', 6378, 5.52, 1.000),\n",
    "    ('Mars', 3396, 3.93, 1.530),\n",
    "    ('Jupiter', 71492, 1.33, 5.210),\n",
    "    ('Saturn', 60268, 0.69, 9.551),\n",
    "    ('Uranus', 25559, 1.27, 19.213),\n",
    "    ('Neptune', 24764, 1.64, 30.070),\n",
    "]"
   ]
  },
  {
   "source": [
    "Let us sort this `list` of planets by size in decreasing order:"
   ],
   "cell_type": "markdown",
   "metadata": {}
  },
  {
   "cell_type": "code",
   "execution_count": 7,
   "metadata": {},
   "outputs": [
    {
     "output_type": "execute_result",
     "data": {
      "text/plain": "[('Jupiter', 71492, 1.33, 5.21),\n ('Saturn', 60268, 0.69, 9.551),\n ('Uranus', 25559, 1.27, 19.213),\n ('Neptune', 24764, 1.64, 30.07),\n ('Earth', 6378, 5.52, 1.0),\n ('Venus', 6052, 5.24, 0.723),\n ('Mars', 3396, 3.93, 1.53),\n ('Mercury', 2440, 5.43, 0.395)]"
     },
     "metadata": {},
     "execution_count": 7
    }
   ],
   "source": [
    "planets.sort(key=lambda planet: planet[1], reverse=True)\n",
    "\n",
    "planets"
   ]
  },
  {
   "source": [
    "### Sorting without Mutation\n",
    "\n",
    "`tuple` can be sorted with the `sorted()` function:"
   ],
   "cell_type": "markdown",
   "metadata": {}
  },
  {
   "cell_type": "code",
   "execution_count": 8,
   "metadata": {
    "tags": []
   },
   "outputs": [
    {
     "output_type": "stream",
     "name": "stdout",
     "text": "Help on built-in function sorted in module builtins:\n\nsorted(iterable, /, *, key=None, reverse=False)\n    Return a new list containing all items from the iterable in ascending order.\n    \n    A custom key function can be supplied to customize the sort order, and the\n    reverse flag can be set to request the result in descending order.\n\n"
    }
   ],
   "source": [
    "help(sorted)"
   ]
  },
  {
   "source": [
    "We that it takes any `iterable` and maps it to a `list`:"
   ],
   "cell_type": "markdown",
   "metadata": {}
  },
  {
   "cell_type": "code",
   "execution_count": 9,
   "metadata": {},
   "outputs": [
    {
     "output_type": "execute_result",
     "data": {
      "text/plain": "list"
     },
     "metadata": {},
     "execution_count": 9
    },
    {
     "output_type": "execute_result",
     "data": {
      "text/plain": "[1, 2, 3, 4, 5, 6, 7, 8, 9, 10]"
     },
     "metadata": {},
     "execution_count": 9
    }
   ],
   "source": [
    "l = sorted((7,2,5,6,1,3,9,10,4,8))\n",
    "\n",
    "type(l)\n",
    "l"
   ]
  },
  {
   "source": [
    "The [documentation](https://docs.python.org/3/glossary.html#term-iterable) for `iterable` shows us that `str` is an `iterable` which implies the following:"
   ],
   "cell_type": "markdown",
   "metadata": {}
  },
  {
   "cell_type": "code",
   "execution_count": 10,
   "metadata": {},
   "outputs": [
    {
     "output_type": "execute_result",
     "data": {
      "text/plain": "['A', 'a', 'a', 'b', 'c', 'e', 'h', 'i', 'l', 'l', 'p', 't']"
     },
     "metadata": {},
     "execution_count": 10
    }
   ],
   "source": [
    "sorted('Alphabetical')"
   ]
  }
 ]
}