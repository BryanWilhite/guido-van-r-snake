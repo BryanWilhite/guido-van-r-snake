{
 "metadata": {
  "language_info": {
   "codemirror_mode": {
    "name": "ipython",
    "version": 3
   },
   "file_extension": ".py",
   "mimetype": "text/x-python",
   "name": "python",
   "nbconvert_exporter": "python",
   "pygments_lexer": "ipython3",
   "version": "3.7.6-final"
  },
  "orig_nbformat": 2,
  "kernelspec": {
   "name": "python_defaultSpec_1598666433412",
   "display_name": "Python 3.7.6 64-bit (conda)"
  }
 },
 "nbformat": 4,
 "nbformat_minor": 2,
 "cells": [
  {
   "cell_type": "markdown",
   "metadata": {},
   "source": [
    "# Python Programming Tutorials (Computer Science)\n",
    "\n",
    "The 🦉 [Socratica](https://www.youtube.com/channel/UCW6TXMZ5Pq6yL6_k5NZ2e0Q) YouTube Channel has a 33-video [playlist](https://www.youtube.com/playlist?list=PLi01XoE8jYohWFPpC17Z-wWhPOSuh8Er-) devoted to the introduction of Python.\n",
    "\n",
    "## #7 Arithmetic in Python V3"
   ]
  },
  {
   "cell_type": "code",
   "execution_count": 29,
   "metadata": {},
   "outputs": [],
   "source": [
    "%run video-00.py"
   ]
  },
  {
   "cell_type": "code",
   "execution_count": 30,
   "metadata": {},
   "outputs": [
    {
     "output_type": "execute_result",
     "data": {
      "text/plain": "<IPython.lib.display.YouTubeVideo at 0x20797deedc8>",
      "text/html": "\n        <iframe\n            width=\"400\"\n            height=\"300\"\n            src=\"https://www.youtube.com/embed/Aj8FQRIHJSc\"\n            frameborder=\"0\"\n            allowfullscreen\n        ></iframe>\n        ",
      "image/jpeg": "[encoded data removed]"
     },
     "metadata": {},
     "execution_count": 30
    },
    {
     "output_type": "execute_result",
     "data": {
      "text/plain": "<IPython.core.display.HTML object>",
      "text/html": "<a href=\"https://www.youtube.com/embed/Aj8FQRIHJSc\">link</a>"
     },
     "metadata": {},
     "execution_count": 30
    }
   ],
   "source": [
    "from IPython import display\n",
    "\n",
    "video = display.YouTubeVideo('Aj8FQRIHJSc')\n",
    "video\n",
    "display.HTML(f'<a href=\"{video.src}\">link</a>')"
   ]
  },
  {
   "cell_type": "markdown",
   "metadata": {},
   "source": [
    "In Python culture, when a numeric type has more length (range) than another numberic type, we say that type is _wider_ than the other. Conversely, when a numeric type has less range, it is more _narrow_.\n",
    "\n",
    "In Python 3.x, floats are wider than ints. But in both Python 2.x and 3.x, complex numbers are wider than floats:"
   ]
  },
  {
   "cell_type": "code",
   "execution_count": 31,
   "metadata": {},
   "outputs": [
    {
     "output_type": "execute_result",
     "data": {
      "text/plain": "True"
     },
     "metadata": {},
     "execution_count": 31
    },
    {
     "output_type": "error",
     "ename": "TypeError",
     "evalue": "can't convert complex to float",
     "traceback": [
      "\u001b[1;31m---------------------------------------------------------------------------\u001b[0m",
      "\u001b[1;31mTypeError\u001b[0m                                 Traceback (most recent call last)",
      "\u001b[1;32m<ipython-input-31-80be39f62b14>\u001b[0m in \u001b[0;36m<module>\u001b[1;34m\u001b[0m\n\u001b[0;32m      5\u001b[0m \u001b[0mcomplex1\u001b[0m \u001b[1;33m==\u001b[0m \u001b[0mcomplex2\u001b[0m \u001b[1;31m# should return `True`\u001b[0m\u001b[1;33m\u001b[0m\u001b[1;33m\u001b[0m\u001b[0m\n\u001b[0;32m      6\u001b[0m \u001b[1;33m\u001b[0m\u001b[0m\n\u001b[1;32m----> 7\u001b[1;33m \u001b[0mfloat\u001b[0m\u001b[1;33m(\u001b[0m\u001b[0mcomplex1\u001b[0m\u001b[1;33m)\u001b[0m \u001b[1;31m# should throw an error\u001b[0m\u001b[1;33m\u001b[0m\u001b[1;33m\u001b[0m\u001b[0m\n\u001b[0m",
      "\u001b[1;31mTypeError\u001b[0m: can't convert complex to float"
     ]
    }
   ],
   "source": [
    "float1 = 3.14\n",
    "complex1 = float1 + 0j     # converting to `complex` by addition\n",
    "complex2 = complex(float1) # converting to `complex` by class construction\n",
    "\n",
    "complex1 == complex2 # should return `True`\n",
    "\n",
    "float(complex1) # should throw an error"
   ]
  },
  {
   "cell_type": "markdown",
   "metadata": {},
   "source": [
    "We can say that this error was thrown because there is no convention in place to _narrow_ down a complex number into an integer in Python. On the other hand, Python has a convention for arithmatic operations with different numeric types:\n",
    "\n",
    ">widen the narrow type and then perform the arithmatic operation\n",
    "\n",
    "In Python 3.x, it follows that:"
   ]
  },
  {
   "cell_type": "code",
   "execution_count": 32,
   "metadata": {},
   "outputs": [
    {
     "output_type": "execute_result",
     "data": {
      "text/plain": "5.0"
     },
     "metadata": {},
     "execution_count": 32
    }
   ],
   "source": [
    "f = 2.0\n",
    "i = 3\n",
    "\n",
    "f + i # <float> + <int> = <float>"
   ]
  },
  {
   "cell_type": "markdown",
   "metadata": {},
   "source": [
    "For the other numeric type:"
   ]
  },
  {
   "cell_type": "code",
   "execution_count": 33,
   "metadata": {},
   "outputs": [
    {
     "output_type": "execute_result",
     "data": {
      "text/plain": "(6+0j)"
     },
     "metadata": {},
     "execution_count": 33
    }
   ],
   "source": [
    "c = 12 + 0j\n",
    "\n",
    "c/f"
   ]
  },
  {
   "cell_type": "code",
   "execution_count": 34,
   "metadata": {},
   "outputs": [
    {
     "output_type": "execute_result",
     "data": {
      "text/plain": "(9+0j)"
     },
     "metadata": {},
     "execution_count": 34
    }
   ],
   "source": [
    "c - i"
   ]
  },
  {
   "cell_type": "markdown",
   "metadata": {},
   "source": [
    "## Integer Division\n",
    "\n",
    "Dividing integers in Python 3.x returns a `float`:"
   ]
  },
  {
   "cell_type": "code",
   "execution_count": 35,
   "metadata": {},
   "outputs": [
    {
     "output_type": "execute_result",
     "data": {
      "text/plain": "1.4"
     },
     "metadata": {},
     "execution_count": 35
    }
   ],
   "source": [
    "7/5 # “true” division"
   ]
  },
  {
   "cell_type": "markdown",
   "metadata": {},
   "source": [
    "To get that Python 2.x flavor, use the double-slash, `//`, operator for _floor_ division:"
   ]
  },
  {
   "cell_type": "code",
   "execution_count": 36,
   "metadata": {},
   "outputs": [
    {
     "output_type": "execute_result",
     "data": {
      "text/plain": "1"
     },
     "metadata": {},
     "execution_count": 36
    }
   ],
   "source": [
    "7//5 # returns the quotient"
   ]
  },
  {
   "cell_type": "code",
   "execution_count": 37,
   "metadata": {},
   "outputs": [
    {
     "output_type": "execute_result",
     "data": {
      "text/plain": "2"
     },
     "metadata": {},
     "execution_count": 37
    }
   ],
   "source": [
    "7 % 5 # modulus returns the remainder"
   ]
  }
 ]
}