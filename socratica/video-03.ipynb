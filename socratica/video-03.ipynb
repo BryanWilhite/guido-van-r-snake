{
 "metadata": {
  "language_info": {
   "codemirror_mode": {
    "name": "ipython",
    "version": 3
   },
   "file_extension": ".py",
   "mimetype": "text/x-python",
   "name": "python",
   "nbconvert_exporter": "python",
   "pygments_lexer": "ipython3",
   "version": "3.7.6-final"
  },
  "orig_nbformat": 2,
  "kernelspec": {
   "name": "python_defaultSpec_1598581982084",
   "display_name": "Python 3.7.6 64-bit (conda)"
  }
 },
 "nbformat": 4,
 "nbformat_minor": 2,
 "cells": [
  {
   "cell_type": "markdown",
   "metadata": {},
   "source": [
    "# Python Programming Tutorials (Computer Science)\n",
    "\n",
    "The 🦉 [Socratica](https://www.youtube.com/channel/UCW6TXMZ5Pq6yL6_k5NZ2e0Q) YouTube Channel has a 33-video [playlist](https://www.youtube.com/playlist?list=PLi01XoE8jYohWFPpC17Z-wWhPOSuh8Er-) devoted to the introduction of Python.\n",
    "\n",
    "## #3 Python Strings"
   ]
  },
  {
   "cell_type": "code",
   "execution_count": 1,
   "metadata": {},
   "outputs": [
    {
     "output_type": "execute_result",
     "data": {
      "text/plain": "<IPython.core.display.HTML object>",
      "text/html": "<a href=\"https://www.youtube.com/embed/iAzShkKzpJo\">link</a>"
     },
     "metadata": {},
     "execution_count": 1
    }
   ],
   "source": [
    "from IPython.core.interactiveshell import InteractiveShell\n",
    "\n",
    "InteractiveShell.ast_node_interactivity = 'all'\n",
    "\n",
    "from IPython import display\n",
    "\n",
    "video = display.YouTubeVideo('iAzShkKzpJo')\n",
    "video\n",
    "display.HTML(f'<a href=\"{video.src}\">link</a>')"
   ]
  },
  {
   "cell_type": "code",
   "execution_count": 2,
   "metadata": {},
   "outputs": [
    {
     "output_type": "execute_result",
     "data": {
      "text/plain": "<IPython.core.display.HTML object>",
      "text/html": "<a href=\"https://www.youtube.com/embed/iAzShkKzpJo\">link</a>"
     },
     "metadata": {},
     "execution_count": 2
    }
   ],
   "source": [
    "display.HTML(f'<a href=\"{video.src}\">link</a>')"
   ]
  },
  {
   "cell_type": "markdown",
   "metadata": {},
   "source": [
    "Python strings can be bounded by a single quote, `'`, or a double quote, `\"`, supporting the following combinations:"
   ]
  },
  {
   "cell_type": "code",
   "execution_count": 3,
   "metadata": {
    "tags": []
   },
   "outputs": [
    {
     "output_type": "stream",
     "name": "stdout",
     "text": "it has width 3'5\"\n"
    }
   ],
   "source": [
    "print('it has width 3\\'5\"')"
   ]
  },
  {
   "cell_type": "code",
   "execution_count": 4,
   "metadata": {
    "tags": []
   },
   "outputs": [
    {
     "output_type": "stream",
     "name": "stdout",
     "text": "it has width 3'5\"\n"
    }
   ],
   "source": [
    "print(\"it has width 3'5\\\"\")"
   ]
  },
  {
   "cell_type": "markdown",
   "metadata": {},
   "source": [
    "Python also supports [heredoc](https://en.wikipedia.org/wiki/Here_document#Python) statements:"
   ]
  },
  {
   "cell_type": "code",
   "execution_count": 5,
   "metadata": {
    "tags": []
   },
   "outputs": [
    {
     "output_type": "stream",
     "name": "stdout",
     "text": "\nit has width 3'5\"\n            (three feet, five inches)\n\n"
    }
   ],
   "source": [
    "print(\"\"\"\n",
    "it has width 3'5\"\n",
    "            (three feet, five inches)\n",
    "\"\"\")"
   ]
  },
  {
   "cell_type": "code",
   "execution_count": 6,
   "metadata": {
    "tags": []
   },
   "outputs": [
    {
     "output_type": "stream",
     "name": "stdout",
     "text": "\nit has width 3'5\"\n            (three feet, five inches)\n\n"
    }
   ],
   "source": [
    "print('''\n",
    "it has width 3'5\"\n",
    "            (three feet, five inches)\n",
    "''')"
   ]
  },
  {
   "cell_type": "markdown",
   "metadata": {},
   "source": [
    "Python >3.6 adds [f-strings](https://www.python.org/dev/peps/pep-0498/) for string interpolation:"
   ]
  },
  {
   "cell_type": "code",
   "execution_count": 7,
   "metadata": {
    "tags": []
   },
   "outputs": [
    {
     "output_type": "stream",
     "name": "stdout",
     "text": "it has width 3'5\"\"\n"
    }
   ],
   "source": [
    "feet = 3\n",
    "inches = 5\n",
    "print(f'it has width {feet}\\'{inches}\"\"')"
   ]
  },
  {
   "cell_type": "code",
   "execution_count": 8,
   "metadata": {
    "tags": []
   },
   "outputs": [
    {
     "output_type": "stream",
     "name": "stdout",
     "text": "\n    it has width 3'5\"\"\n            (three feet, five inches)\n\n"
    }
   ],
   "source": [
    "print(f'''\n",
    "    it has width {feet}\\'{inches}\"\"\n",
    "            (three feet, five inches)\n",
    "''')"
   ]
  },
  {
   "cell_type": "code",
   "execution_count": 9,
   "metadata": {
    "tags": []
   },
   "outputs": [
    {
     "output_type": "stream",
     "name": "stdout",
     "text": "\n    it has width 3'5\"\"\n            (three feet, five inches)\n\n"
    }
   ],
   "source": [
    "print(f\"\"\"\n",
    "    it has width {feet}\\'{inches}\"\"\n",
    "            (three feet, five inches)\n",
    "\"\"\")"
   ]
  }
 ]
}