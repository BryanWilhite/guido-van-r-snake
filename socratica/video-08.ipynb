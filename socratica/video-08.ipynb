{
 "metadata": {
  "language_info": {
   "codemirror_mode": {
    "name": "ipython",
    "version": 3
   },
   "file_extension": ".py",
   "mimetype": "text/x-python",
   "name": "python",
   "nbconvert_exporter": "python",
   "pygments_lexer": "ipython3",
   "version": "3.7.6-final"
  },
  "orig_nbformat": 2,
  "kernelspec": {
   "name": "python3",
   "display_name": "Python 3"
  }
 },
 "nbformat": 4,
 "nbformat_minor": 2,
 "cells": [
  {
   "cell_type": "markdown",
   "metadata": {},
   "source": [
    "# Python Programming Tutorials (Computer Science)\n",
    "\n",
    "The 🦉 [Socratica](https://www.youtube.com/channel/UCW6TXMZ5Pq6yL6_k5NZ2e0Q) YouTube Channel has a 33-video [playlist](https://www.youtube.com/playlist?list=PLi01XoE8jYohWFPpC17Z-wWhPOSuh8Er-) devoted to the introduction of Python.\n",
    "\n",
    "## #8 Interactive Help"
   ]
  },
  {
   "cell_type": "code",
   "execution_count": 1,
   "metadata": {},
   "outputs": [
    {
     "output_type": "execute_result",
     "data": {
      "text/plain": "<IPython.core.display.HTML object>",
      "text/html": "<a href=\"https://www.youtube.com/embed/BVXv0-1Rcc8\">link</a>"
     },
     "metadata": {},
     "execution_count": 1
    }
   ],
   "source": [
    "from IPython.core.interactiveshell import InteractiveShell\n",
    "\n",
    "InteractiveShell.ast_node_interactivity = 'all'\n",
    "\n",
    "from IPython import display\n",
    "\n",
    "video = display.YouTubeVideo('BVXv0-1Rcc8')\n",
    "video\n",
    "display.HTML(f'<a href=\"{video.src}\">link</a>')"
   ]
  },
  {
   "cell_type": "code",
   "execution_count": 2,
   "metadata": {},
   "outputs": [
    {
     "output_type": "execute_result",
     "data": {
      "text/plain": "<IPython.core.display.HTML object>",
      "text/html": "<a href=\"https://www.youtube.com/embed/BVXv0-1Rcc8\">link</a>"
     },
     "metadata": {},
     "execution_count": 2
    }
   ],
   "source": [
    "display.HTML(f'<a href=\"{video.src}\">link</a>')"
   ]
  },
  {
   "cell_type": "markdown",
   "metadata": {},
   "source": [
    "The Python `dir()` function [📖[docs](https://docs.python.org/3.8/library/functions.html#dir)] provides the ability to enumerate the names of objects in local scope."
   ]
  },
  {
   "cell_type": "code",
   "execution_count": 3,
   "metadata": {},
   "outputs": [
    {
     "output_type": "execute_result",
     "data": {
      "text/plain": "['In',\n 'InteractiveShell',\n 'Out',\n '_',\n '_1',\n '_2',\n '__',\n '___',\n '__builtin__',\n '__builtins__',\n '__doc__',\n '__loader__',\n '__name__',\n '__package__',\n '__spec__',\n '_dh',\n '_i',\n '_i1',\n '_i2',\n '_i3',\n '_ih',\n '_ii',\n '_iii',\n '_oh',\n 'display',\n 'exit',\n 'get_ipython',\n 'os',\n 'quit',\n 'sys',\n 'video']"
     },
     "metadata": {},
     "execution_count": 3
    }
   ],
   "source": [
    "dir()"
   ]
  },
  {
   "cell_type": "markdown",
   "metadata": {},
   "source": [
    "Look 👀 at the `__builtins__` module by enumerating its objects:"
   ]
  },
  {
   "cell_type": "code",
   "execution_count": 4,
   "metadata": {},
   "outputs": [
    {
     "output_type": "execute_result",
     "data": {
      "text/plain": "['ArithmeticError',\n 'AssertionError',\n 'AttributeError',\n 'BaseException',\n 'BlockingIOError',\n 'BrokenPipeError',\n 'BufferError',\n 'BytesWarning',\n 'ChildProcessError',\n 'ConnectionAbortedError',\n 'ConnectionError',\n 'ConnectionRefusedError',\n 'ConnectionResetError',\n 'DeprecationWarning',\n 'EOFError',\n 'Ellipsis',\n 'EnvironmentError',\n 'Exception',\n 'False',\n 'FileExistsError',\n 'FileNotFoundError',\n 'FloatingPointError',\n 'FutureWarning',\n 'GeneratorExit',\n 'IOError',\n 'ImportError',\n 'ImportWarning',\n 'IndentationError',\n 'IndexError',\n 'InterruptedError',\n 'IsADirectoryError',\n 'KeyError',\n 'KeyboardInterrupt',\n 'LookupError',\n 'MemoryError',\n 'ModuleNotFoundError',\n 'NameError',\n 'None',\n 'NotADirectoryError',\n 'NotImplemented',\n 'NotImplementedError',\n 'OSError',\n 'OverflowError',\n 'PendingDeprecationWarning',\n 'PermissionError',\n 'ProcessLookupError',\n 'RecursionError',\n 'ReferenceError',\n 'ResourceWarning',\n 'RuntimeError',\n 'RuntimeWarning',\n 'StopAsyncIteration',\n 'StopIteration',\n 'SyntaxError',\n 'SyntaxWarning',\n 'SystemError',\n 'SystemExit',\n 'TabError',\n 'TimeoutError',\n 'True',\n 'TypeError',\n 'UnboundLocalError',\n 'UnicodeDecodeError',\n 'UnicodeEncodeError',\n 'UnicodeError',\n 'UnicodeTranslateError',\n 'UnicodeWarning',\n 'UserWarning',\n 'ValueError',\n 'Warning',\n 'WindowsError',\n 'ZeroDivisionError',\n '__IPYTHON__',\n '__build_class__',\n '__debug__',\n '__doc__',\n '__import__',\n '__loader__',\n '__name__',\n '__package__',\n '__spec__',\n 'abs',\n 'all',\n 'any',\n 'ascii',\n 'bin',\n 'bool',\n 'breakpoint',\n 'bytearray',\n 'bytes',\n 'callable',\n 'chr',\n 'classmethod',\n 'compile',\n 'complex',\n 'copyright',\n 'credits',\n 'delattr',\n 'dict',\n 'dir',\n 'display',\n 'divmod',\n 'enumerate',\n 'eval',\n 'exec',\n 'filter',\n 'float',\n 'format',\n 'frozenset',\n 'get_ipython',\n 'getattr',\n 'globals',\n 'hasattr',\n 'hash',\n 'help',\n 'hex',\n 'id',\n 'input',\n 'int',\n 'isinstance',\n 'issubclass',\n 'iter',\n 'len',\n 'license',\n 'list',\n 'locals',\n 'map',\n 'max',\n 'memoryview',\n 'min',\n 'next',\n 'object',\n 'oct',\n 'open',\n 'ord',\n 'pow',\n 'print',\n 'property',\n 'range',\n 'repr',\n 'reversed',\n 'round',\n 'set',\n 'setattr',\n 'slice',\n 'sorted',\n 'staticmethod',\n 'str',\n 'sum',\n 'super',\n 'tuple',\n 'type',\n 'vars',\n 'zip']"
     },
     "metadata": {},
     "execution_count": 4
    }
   ],
   "source": [
    "dir(__builtins__)"
   ]
  },
  {
   "cell_type": "markdown",
   "metadata": {},
   "source": [
    "We can read the documentation for `__builtins__` objects, say, `pow` by using the `help()` function:"
   ]
  },
  {
   "cell_type": "code",
   "execution_count": 5,
   "metadata": {
    "tags": []
   },
   "outputs": [
    {
     "output_type": "stream",
     "name": "stdout",
     "text": "Help on built-in function pow in module builtins:\n\npow(x, y, z=None, /)\n    Equivalent to x**y (with two arguments) or x**y % z (with three arguments)\n    \n    Some types, such as ints, are able to use a more efficient algorithm when\n    invoked using the three argument form.\n\n"
    }
   ],
   "source": [
    "help(pow)"
   ]
  },
  {
   "cell_type": "markdown",
   "metadata": {},
   "source": [
    "_2_ to the tenth power:"
   ]
  },
  {
   "cell_type": "code",
   "execution_count": 6,
   "metadata": {},
   "outputs": [
    {
     "output_type": "execute_result",
     "data": {
      "text/plain": "1024"
     },
     "metadata": {},
     "execution_count": 6
    }
   ],
   "source": [
    "pow(2, 10)"
   ]
  },
  {
   "cell_type": "markdown",
   "metadata": {},
   "source": [
    "The built-in documentation is telling us that:\n",
    "\n",
    ">Equivalent to x**y (with two arguments)\n",
    "\n",
    "This implies that we can rewrite out `pow` call above as:"
   ]
  },
  {
   "cell_type": "code",
   "execution_count": 7,
   "metadata": {},
   "outputs": [
    {
     "output_type": "execute_result",
     "data": {
      "text/plain": "1024"
     },
     "metadata": {},
     "execution_count": 7
    }
   ],
   "source": [
    "2**10"
   ]
  },
  {
   "cell_type": "markdown",
   "metadata": {},
   "source": [
    "Let’s see another function, say, `hex`:"
   ]
  },
  {
   "cell_type": "code",
   "execution_count": 8,
   "metadata": {
    "tags": []
   },
   "outputs": [
    {
     "output_type": "stream",
     "name": "stdout",
     "text": "Help on built-in function hex in module builtins:\n\nhex(number, /)\n    Return the hexadecimal representation of an integer.\n    \n    >>> hex(12648430)\n    '0xc0ffee'\n\n"
    }
   ],
   "source": [
    "help(hex)"
   ]
  },
  {
   "cell_type": "markdown",
   "metadata": {},
   "source": [
    "Note that hexadecimals in Python are prefixed with `'0x'` so `hex(10)` is _a_.\n",
    "\n",
    "We can verify this by converting back to decimal:"
   ]
  },
  {
   "cell_type": "code",
   "execution_count": 9,
   "metadata": {},
   "outputs": [
    {
     "output_type": "execute_result",
     "data": {
      "text/plain": "'0xa'"
     },
     "metadata": {},
     "execution_count": 9
    }
   ],
   "source": [
    "hex(10)"
   ]
  },
  {
   "cell_type": "code",
   "execution_count": 10,
   "metadata": {},
   "outputs": [
    {
     "output_type": "execute_result",
     "data": {
      "text/plain": "10"
     },
     "metadata": {},
     "execution_count": 10
    }
   ],
   "source": [
    "0xa"
   ]
  },
  {
   "cell_type": "markdown",
   "metadata": {},
   "source": [
    "To list all available modules that can be imported into the current scope, pass a magic string, `'modules'`, to the `help()` function:\n",
    "\n",
    "```python\n",
    "help('modules')\n",
    "```\n",
    "\n",
    "⚠ This command may not work as expected in this notebook (it may show only the first column of output, making an incomplete list). Running this in an interactive Python shell session will give the expected results.\n",
    "\n",
    "Alternatively, we can stay in the notebook and use the `sys` module instead:"
   ]
  },
  {
   "cell_type": "code",
   "execution_count": 11,
   "metadata": {
    "tags": []
   },
   "outputs": [
    {
     "output_type": "stream",
     "name": "stdout",
     "text": "Help on built-in module sys:\n\nNAME\n    sys\n\nMODULE REFERENCE\n    https://docs.python.org/3.7/library/sys\n    \n    The following documentation is automatically generated from the Python\n    source files.  It may be incomplete, incorrect or include features that\n    are considered implementation detail and may vary between Python\n    implementations.  When in doubt, consult the module reference at the\n    location listed above.\n\nDESCRIPTION\n    This module provides access to some objects used or maintained by the\n    interpreter and to functions that interact strongly with the interpreter.\n    \n    Dynamic objects:\n    \n    argv -- command line arguments; argv[0] is the script pathname if known\n    path -- module search path; path[0] is the script directory, else ''\n    modules -- dictionary of loaded modules\n    \n    displayhook -- called to show results in an interactive session\n    excepthook -- called to handle any uncaught exception other than SystemExit\n      To customize printing in an interactive session or to install a custom\n      top-level exception handler, assign other functions to replace these.\n    \n    stdin -- standard input file object; used by input()\n    stdout -- standard output file object; used by print()\n    stderr -- standard error object; used for error messages\n      By assigning other file objects (or objects that behave like files)\n      to these, it is possible to redirect all of the interpreter's I/O.\n    \n    last_type -- type of last uncaught exception\n    last_value -- value of last uncaught exception\n    last_traceback -- traceback of last uncaught exception\n      These three are only available in an interactive session after a\n      traceback has been printed.\n    \n    Static objects:\n    \n    builtin_module_names -- tuple of module names built into this interpreter\n    copyright -- copyright notice pertaining to this interpreter\n    exec_prefix -- prefix used to find the machine-specific Python library\n    executable -- absolute path of the executable binary of the Python interpreter\n    float_info -- a named tuple with information about the float implementation.\n    float_repr_style -- string indicating the style of repr() output for floats\n    hash_info -- a named tuple with information about the hash algorithm.\n    hexversion -- version information encoded as a single integer\n    implementation -- Python implementation information.\n    int_info -- a named tuple with information about the int implementation.\n    maxsize -- the largest supported length of containers.\n    maxunicode -- the value of the largest Unicode code point\n    platform -- platform identifier\n    prefix -- prefix used to find the Python library\n    thread_info -- a named tuple with information about the thread implementation.\n    version -- the version of this interpreter as a string\n    version_info -- version information as a named tuple\n    dllhandle -- [Windows only] integer handle of the Python DLL\n    winver -- [Windows only] version number of the Python DLL\n    _enablelegacywindowsfsencoding -- [Windows only] \n    __stdin__ -- the original stdin; don't touch!\n    __stdout__ -- the original stdout; don't touch!\n    __stderr__ -- the original stderr; don't touch!\n    __displayhook__ -- the original displayhook; don't touch!\n    __excepthook__ -- the original excepthook; don't touch!\n    \n    Functions:\n    \n    displayhook() -- print an object to the screen, and save it in builtins._\n    excepthook() -- print an exception and its traceback to sys.stderr\n    exc_info() -- return thread-safe information about the current exception\n    exit() -- exit the interpreter by raising SystemExit\n    getdlopenflags() -- returns flags to be used for dlopen() calls\n    getprofile() -- get the global profiling function\n    getrefcount() -- return the reference count for an object (plus one :-)\n    getrecursionlimit() -- return the max recursion depth for the interpreter\n    getsizeof() -- return the size of an object in bytes\n    gettrace() -- get the global debug tracing function\n    setcheckinterval() -- control how often the interpreter checks for events\n    setdlopenflags() -- set the flags to be used for dlopen() calls\n    setprofile() -- set the global profiling function\n    setrecursionlimit() -- set the max recursion depth for the interpreter\n    settrace() -- set the global debug tracing function\n\nFUNCTIONS\n    __breakpointhook__ = breakpointhook(...)\n        breakpointhook(*args, **kws)\n        \n        This hook function is called by built-in breakpoint().\n    \n    __displayhook__ = displayhook(...)\n        displayhook(object) -> None\n        \n        Print an object to sys.stdout and also save it in builtins._\n    \n    __excepthook__ = excepthook(...)\n        excepthook(exctype, value, traceback) -> None\n        \n        Handle an exception by displaying it with a traceback on sys.stderr.\n    \n    breakpointhook(...)\n        breakpointhook(*args, **kws)\n        \n        This hook function is called by built-in breakpoint().\n    \n    call_tracing(...)\n        call_tracing(func, args) -> object\n        \n        Call func(*args), while tracing is enabled.  The tracing state is\n        saved, and restored afterwards.  This is intended to be called from\n        a debugger from a checkpoint, to recursively debug some other code.\n    \n    callstats(...)\n        callstats() -> tuple of integers\n        \n        Return a tuple of function call statistics, if CALL_PROFILE was defined\n        when Python was built.  Otherwise, return None.\n        \n        When enabled, this function returns detailed, implementation-specific\n        details about the number of function calls executed. The return value is\n        a 11-tuple where the entries in the tuple are counts of:\n        0. all function calls\n        1. calls to PyFunction_Type objects\n        2. PyFunction calls that do not create an argument tuple\n        3. PyFunction calls that do not create an argument tuple\n           and bypass PyEval_EvalCodeEx()\n        4. PyMethod calls\n        5. PyMethod calls on bound methods\n        6. PyType calls\n        7. PyCFunction calls\n        8. generator calls\n        9. All other calls\n        10. Number of stack pops performed by call_function()\n    \n    exc_info(...)\n        exc_info() -> (type, value, traceback)\n        \n        Return information about the most recent exception caught by an except\n        clause in the current stack frame or in an older stack frame.\n    \n    exit(...)\n        exit([status])\n        \n        Exit the interpreter by raising SystemExit(status).\n        If the status is omitted or None, it defaults to zero (i.e., success).\n        If the status is an integer, it will be used as the system exit status.\n        If it is another kind of object, it will be printed and the system\n        exit status will be one (i.e., failure).\n    \n    get_asyncgen_hooks(...)\n        get_asyncgen_hooks()\n        \n        Return a namedtuple of installed asynchronous generators hooks (firstiter, finalizer).\n    \n    get_coroutine_origin_tracking_depth()\n        Check status of origin tracking for coroutine objects in this thread.\n    \n    get_coroutine_wrapper(...)\n        get_coroutine_wrapper()\n        \n        Return the wrapper for coroutine objects set by sys.set_coroutine_wrapper.\n    \n    getallocatedblocks(...)\n        getallocatedblocks() -> integer\n        \n        Return the number of memory blocks currently allocated, regardless of their\n        size.\n    \n    getcheckinterval(...)\n        getcheckinterval() -> current check interval; see setcheckinterval().\n    \n    getdefaultencoding(...)\n        getdefaultencoding() -> string\n        \n        Return the current default string encoding used by the Unicode \n        implementation.\n    \n    getfilesystemencodeerrors(...)\n        getfilesystemencodeerrors() -> string\n        \n        Return the error mode used to convert Unicode filenames in\n        operating system filenames.\n    \n    getfilesystemencoding(...)\n        getfilesystemencoding() -> string\n        \n        Return the encoding used to convert Unicode filenames in\n        operating system filenames.\n    \n    getprofile(...)\n        getprofile()\n        \n        Return the profiling function set with sys.setprofile.\n        See the profiler chapter in the library manual.\n    \n    getrecursionlimit(...)\n        getrecursionlimit()\n        \n        Return the current value of the recursion limit, the maximum depth\n        of the Python interpreter stack.  This limit prevents infinite\n        recursion from causing an overflow of the C stack and crashing Python.\n    \n    getrefcount(...)\n        getrefcount(object) -> integer\n        \n        Return the reference count of object.  The count returned is generally\n        one higher than you might expect, because it includes the (temporary)\n        reference as an argument to getrefcount().\n    \n    getsizeof(...)\n        getsizeof(object, default) -> int\n        \n        Return the size of object in bytes.\n    \n    getswitchinterval(...)\n        getswitchinterval() -> current thread switch interval; see setswitchinterval().\n    \n    gettrace(...)\n        gettrace()\n        \n        Return the global debug tracing function set with sys.settrace.\n        See the debugger chapter in the library manual.\n    \n    getwindowsversion(...)\n        getwindowsversion()\n        \n        Return information about the running version of Windows as a named tuple.\n        The members are named: major, minor, build, platform, service_pack,\n        service_pack_major, service_pack_minor, suite_mask, and product_type. For\n        backward compatibility, only the first 5 items are available by indexing.\n        All elements are numbers, except service_pack and platform_type which are\n        strings, and platform_version which is a 3-tuple. Platform is always 2.\n        Product_type may be 1 for a workstation, 2 for a domain controller, 3 for a\n        server. Platform_version is a 3-tuple containing a version number that is\n        intended for identifying the OS rather than feature detection.\n    \n    intern(...)\n        intern(string) -> string\n        \n        ``Intern'' the given string.  This enters the string in the (global)\n        table of interned strings whose purpose is to speed up dictionary lookups.\n        Return the string itself or the previously interned string object with the\n        same value.\n    \n    is_finalizing(...)\n        is_finalizing()\n        Return True if Python is exiting.\n    \n    set_asyncgen_hooks(...)\n        set_asyncgen_hooks(*, firstiter=None, finalizer=None)\n        \n        Set a finalizer for async generators objects.\n    \n    set_coroutine_origin_tracking_depth(depth)\n        Enable or disable origin tracking for coroutine objects in this thread.\n        \n        Coroutine objects will track 'depth' frames of traceback information about\n        where they came from, available in their cr_origin attribute. Set depth of 0\n        to disable.\n    \n    set_coroutine_wrapper(...)\n        set_coroutine_wrapper(wrapper)\n        \n        Set a wrapper for coroutine objects.\n    \n    setcheckinterval(...)\n        setcheckinterval(n)\n        \n        Tell the Python interpreter to check for asynchronous events every\n        n instructions.  This also affects how often thread switches occur.\n    \n    setprofile(...)\n        setprofile(function)\n        \n        Set the profiling function.  It will be called on each function call\n        and return.  See the profiler chapter in the library manual.\n    \n    setrecursionlimit(...)\n        setrecursionlimit(n)\n        \n        Set the maximum depth of the Python interpreter stack to n.  This\n        limit prevents infinite recursion from causing an overflow of the C\n        stack and crashing Python.  The highest possible limit is platform-\n        dependent.\n    \n    setswitchinterval(...)\n        setswitchinterval(n)\n        \n        Set the ideal thread switching delay inside the Python interpreter\n        The actual frequency of switching threads can be lower if the\n        interpreter executes long sequences of uninterruptible code\n        (this is implementation-specific and workload-dependent).\n        \n        The parameter must represent the desired switching delay in seconds\n        A typical value is 0.005 (5 milliseconds).\n    \n    settrace(...)\n        settrace(function)\n        \n        Set the global debug tracing function.  It will be called on each\n        function call.  See the debugger chapter in the library manual.\n\nDATA\n    __stderr__ = <_io.TextIOWrapper name='<stderr>' mode='w' encoding='utf...\n    __stdin__ = <_io.TextIOWrapper name='<stdin>' mode='r' encoding='utf-8...\n    __stdout__ = <_io.TextIOWrapper name='<stdout>' mode='w' encoding='utf...\n    api_version = 1013\n    argv = ['ipykernel_launcher', '--ip=127.0.0.1', '--stdin=9169', '--con...\n    base_exec_prefix = r'C:\\tools\\Anaconda3'\n    base_prefix = r'C:\\tools\\Anaconda3'\n    builtin_module_names = ('_abc', '_ast', '_bisect', '_blake2', '_codecs...\n    byteorder = 'little'\n    copyright = 'Copyright (c) 2001-2019 Python Software Foundati...ematis...\n    displayhook = <ipykernel.displayhook.ZMQShellDisplayHook object>\n    dllhandle = 140728697356288\n    dont_write_bytecode = False\n    exec_prefix = r'C:\\tools\\Anaconda3'\n    executable = r'C:\\tools\\Anaconda3\\python.exe'\n    flags = sys.flags(debug=0, inspect=0, interactive=0, opt...ation=1, is...\n    float_info = sys.float_info(max=1.7976931348623157e+308, max_...epsilo...\n    float_repr_style = 'short'\n    hash_info = sys.hash_info(width=64, modulus=2305843009213693...iphash2...\n    hexversion = 50792176\n    implementation = namespace(cache_tag='cpython-37', hexversion=507...in...\n    int_info = sys.int_info(bits_per_digit=30, sizeof_digit=4)\n    maxsize = 9223372036854775807\n    maxunicode = 1114111\n    meta_path = [<class '_frozen_importlib.BuiltinImporter'>, <class '_fro...\n    modules = {'IPython': <module 'IPython' from 'C:\\\\tools\\\\Anaconda3\\\\li...\n    path = [r'd:\\~shares\\sourceRoot\\guido-van-r-snake\\socratica', r'c:\\Use...\n    path_hooks = [<class 'zipimport.zipimporter'>, <function FileFinder.pa...\n    path_importer_cache = {r'C:\\Users\\rasx\\.ipython': FileFinder('C:\\\\User...\n    platform = 'win32'\n    prefix = r'C:\\tools\\Anaconda3'\n    ps1 = 'In : '\n    ps2 = '...: '\n    ps3 = 'Out: '\n    stderr = <ipykernel.iostream.OutStream object>\n    stdin = <_io.TextIOWrapper name='<stdin>' mode='r' encoding='utf-8'>\n    stdout = <ipykernel.iostream.OutStream object>\n    thread_info = sys.thread_info(name='nt', lock=None, version=None)\n    version = '3.7.6 (default, Jan  8 2020, 20:23:39) [MSC v.1916 64 bit (...\n    version_info = sys.version_info(major=3, minor=7, micro=6, releaseleve...\n    warnoptions = ['ignore']\n    winver = '3.7'\n\nFILE\n    (built-in)\n\n\n"
    }
   ],
   "source": [
    "help(sys)"
   ]
  },
  {
   "cell_type": "markdown",
   "metadata": {},
   "source": [
    "We see in the documentation that `sys` has a `builtin_module_names` static tuple that contains the “module names built into this interpreter.” Since the `math` module is a built-in to the interpreter, we should see it in the following enumeration:"
   ]
  },
  {
   "cell_type": "code",
   "execution_count": 12,
   "metadata": {},
   "outputs": [
    {
     "output_type": "execute_result",
     "data": {
      "text/plain": "('_abc',\n '_ast',\n '_bisect',\n '_blake2',\n '_codecs',\n '_codecs_cn',\n '_codecs_hk',\n '_codecs_iso2022',\n '_codecs_jp',\n '_codecs_kr',\n '_codecs_tw',\n '_collections',\n '_contextvars',\n '_csv',\n '_datetime',\n '_functools',\n '_heapq',\n '_imp',\n '_io',\n '_json',\n '_locale',\n '_lsprof',\n '_md5',\n '_multibytecodec',\n '_opcode',\n '_operator',\n '_pickle',\n '_random',\n '_sha1',\n '_sha256',\n '_sha3',\n '_sha512',\n '_signal',\n '_sre',\n '_stat',\n '_string',\n '_struct',\n '_symtable',\n '_thread',\n '_tracemalloc',\n '_warnings',\n '_weakref',\n '_winapi',\n 'array',\n 'atexit',\n 'audioop',\n 'binascii',\n 'builtins',\n 'cmath',\n 'errno',\n 'faulthandler',\n 'gc',\n 'itertools',\n 'marshal',\n 'math',\n 'mmap',\n 'msvcrt',\n 'nt',\n 'parser',\n 'sys',\n 'time',\n 'winreg',\n 'xxsubtype',\n 'zipimport',\n 'zlib')"
     },
     "metadata": {},
     "execution_count": 12
    }
   ],
   "source": [
    "sys.builtin_module_names"
   ]
  },
  {
   "cell_type": "markdown",
   "metadata": {},
   "source": [
    "We should now be _more_ than comfortable with importing `math` and seeing 👀 it in local scope:"
   ]
  },
  {
   "cell_type": "code",
   "execution_count": 13,
   "metadata": {},
   "outputs": [
    {
     "output_type": "execute_result",
     "data": {
      "text/plain": "['In',\n 'InteractiveShell',\n 'Out',\n '_',\n '_1',\n '_10',\n '_12',\n '_2',\n '_3',\n '_4',\n '_6',\n '_7',\n '_9',\n '__',\n '___',\n '__builtin__',\n '__builtins__',\n '__doc__',\n '__loader__',\n '__name__',\n '__package__',\n '__spec__',\n '_dh',\n '_i',\n '_i1',\n '_i10',\n '_i11',\n '_i12',\n '_i13',\n '_i2',\n '_i3',\n '_i4',\n '_i5',\n '_i6',\n '_i7',\n '_i8',\n '_i9',\n '_ih',\n '_ii',\n '_iii',\n '_oh',\n 'display',\n 'exit',\n 'get_ipython',\n 'math',\n 'os',\n 'quit',\n 'sys',\n 'video']"
     },
     "metadata": {},
     "execution_count": 13
    }
   ],
   "source": [
    "import math\n",
    "\n",
    "dir()"
   ]
  },
  {
   "cell_type": "code",
   "execution_count": 14,
   "metadata": {
    "tags": []
   },
   "outputs": [
    {
     "output_type": "stream",
     "name": "stdout",
     "text": "Help on built-in module math:\n\nNAME\n    math\n\nDESCRIPTION\n    This module provides access to the mathematical functions\n    defined by the C standard.\n\nFUNCTIONS\n    acos(x, /)\n        Return the arc cosine (measured in radians) of x.\n    \n    acosh(x, /)\n        Return the inverse hyperbolic cosine of x.\n    \n    asin(x, /)\n        Return the arc sine (measured in radians) of x.\n    \n    asinh(x, /)\n        Return the inverse hyperbolic sine of x.\n    \n    atan(x, /)\n        Return the arc tangent (measured in radians) of x.\n    \n    atan2(y, x, /)\n        Return the arc tangent (measured in radians) of y/x.\n        \n        Unlike atan(y/x), the signs of both x and y are considered.\n    \n    atanh(x, /)\n        Return the inverse hyperbolic tangent of x.\n    \n    ceil(x, /)\n        Return the ceiling of x as an Integral.\n        \n        This is the smallest integer >= x.\n    \n    copysign(x, y, /)\n        Return a float with the magnitude (absolute value) of x but the sign of y.\n        \n        On platforms that support signed zeros, copysign(1.0, -0.0)\n        returns -1.0.\n    \n    cos(x, /)\n        Return the cosine of x (measured in radians).\n    \n    cosh(x, /)\n        Return the hyperbolic cosine of x.\n    \n    degrees(x, /)\n        Convert angle x from radians to degrees.\n    \n    erf(x, /)\n        Error function at x.\n    \n    erfc(x, /)\n        Complementary error function at x.\n    \n    exp(x, /)\n        Return e raised to the power of x.\n    \n    expm1(x, /)\n        Return exp(x)-1.\n        \n        This function avoids the loss of precision involved in the direct evaluation of exp(x)-1 for small x.\n    \n    fabs(x, /)\n        Return the absolute value of the float x.\n    \n    factorial(x, /)\n        Find x!.\n        \n        Raise a ValueError if x is negative or non-integral.\n    \n    floor(x, /)\n        Return the floor of x as an Integral.\n        \n        This is the largest integer <= x.\n    \n    fmod(x, y, /)\n        Return fmod(x, y), according to platform C.\n        \n        x % y may differ.\n    \n    frexp(x, /)\n        Return the mantissa and exponent of x, as pair (m, e).\n        \n        m is a float and e is an int, such that x = m * 2.**e.\n        If x is 0, m and e are both 0.  Else 0.5 <= abs(m) < 1.0.\n    \n    fsum(seq, /)\n        Return an accurate floating point sum of values in the iterable seq.\n        \n        Assumes IEEE-754 floating point arithmetic.\n    \n    gamma(x, /)\n        Gamma function at x.\n    \n    gcd(x, y, /)\n        greatest common divisor of x and y\n    \n    hypot(x, y, /)\n        Return the Euclidean distance, sqrt(x*x + y*y).\n    \n    isclose(a, b, *, rel_tol=1e-09, abs_tol=0.0)\n        Determine whether two floating point numbers are close in value.\n        \n          rel_tol\n            maximum difference for being considered \"close\", relative to the\n            magnitude of the input values\n          abs_tol\n            maximum difference for being considered \"close\", regardless of the\n            magnitude of the input values\n        \n        Return True if a is close in value to b, and False otherwise.\n        \n        For the values to be considered close, the difference between them\n        must be smaller than at least one of the tolerances.\n        \n        -inf, inf and NaN behave similarly to the IEEE 754 Standard.  That\n        is, NaN is not close to anything, even itself.  inf and -inf are\n        only close to themselves.\n    \n    isfinite(x, /)\n        Return True if x is neither an infinity nor a NaN, and False otherwise.\n    \n    isinf(x, /)\n        Return True if x is a positive or negative infinity, and False otherwise.\n    \n    isnan(x, /)\n        Return True if x is a NaN (not a number), and False otherwise.\n    \n    ldexp(x, i, /)\n        Return x * (2**i).\n        \n        This is essentially the inverse of frexp().\n    \n    lgamma(x, /)\n        Natural logarithm of absolute value of Gamma function at x.\n    \n    log(...)\n        log(x, [base=math.e])\n        Return the logarithm of x to the given base.\n        \n        If the base not specified, returns the natural logarithm (base e) of x.\n    \n    log10(x, /)\n        Return the base 10 logarithm of x.\n    \n    log1p(x, /)\n        Return the natural logarithm of 1+x (base e).\n        \n        The result is computed in a way which is accurate for x near zero.\n    \n    log2(x, /)\n        Return the base 2 logarithm of x.\n    \n    modf(x, /)\n        Return the fractional and integer parts of x.\n        \n        Both results carry the sign of x and are floats.\n    \n    pow(x, y, /)\n        Return x**y (x to the power of y).\n    \n    radians(x, /)\n        Convert angle x from degrees to radians.\n    \n    remainder(x, y, /)\n        Difference between x and the closest integer multiple of y.\n        \n        Return x - n*y where n*y is the closest integer multiple of y.\n        In the case where x is exactly halfway between two multiples of\n        y, the nearest even value of n is used. The result is always exact.\n    \n    sin(x, /)\n        Return the sine of x (measured in radians).\n    \n    sinh(x, /)\n        Return the hyperbolic sine of x.\n    \n    sqrt(x, /)\n        Return the square root of x.\n    \n    tan(x, /)\n        Return the tangent of x (measured in radians).\n    \n    tanh(x, /)\n        Return the hyperbolic tangent of x.\n    \n    trunc(x, /)\n        Truncates the Real x to the nearest Integral toward 0.\n        \n        Uses the __trunc__ magic method.\n\nDATA\n    e = 2.718281828459045\n    inf = inf\n    nan = nan\n    pi = 3.141592653589793\n    tau = 6.283185307179586\n\nFILE\n    (built-in)\n\n\n"
    },
    {
     "output_type": "execute_result",
     "data": {
      "text/plain": "['__doc__',\n '__loader__',\n '__name__',\n '__package__',\n '__spec__',\n 'acos',\n 'acosh',\n 'asin',\n 'asinh',\n 'atan',\n 'atan2',\n 'atanh',\n 'ceil',\n 'copysign',\n 'cos',\n 'cosh',\n 'degrees',\n 'e',\n 'erf',\n 'erfc',\n 'exp',\n 'expm1',\n 'fabs',\n 'factorial',\n 'floor',\n 'fmod',\n 'frexp',\n 'fsum',\n 'gamma',\n 'gcd',\n 'hypot',\n 'inf',\n 'isclose',\n 'isfinite',\n 'isinf',\n 'isnan',\n 'ldexp',\n 'lgamma',\n 'log',\n 'log10',\n 'log1p',\n 'log2',\n 'modf',\n 'nan',\n 'pi',\n 'pow',\n 'radians',\n 'remainder',\n 'sin',\n 'sinh',\n 'sqrt',\n 'tan',\n 'tanh',\n 'tau',\n 'trunc']"
     },
     "metadata": {},
     "execution_count": 14
    }
   ],
   "source": [
    "help(math)\n",
    "dir(math)"
   ]
  },
  {
   "cell_type": "markdown",
   "metadata": {},
   "source": [
    "Let’s take a look at the `radians` function:"
   ]
  },
  {
   "cell_type": "code",
   "execution_count": 15,
   "metadata": {},
   "outputs": [
    {
     "output_type": "error",
     "ename": "NameError",
     "evalue": "name 'radians' is not defined",
     "traceback": [
      "\u001b[1;31m---------------------------------------------------------------------------\u001b[0m",
      "\u001b[1;31mNameError\u001b[0m                                 Traceback (most recent call last)",
      "\u001b[1;32m<ipython-input-15-8223eb0f88be>\u001b[0m in \u001b[0;36m<module>\u001b[1;34m\u001b[0m\n\u001b[1;32m----> 1\u001b[1;33m \u001b[0mhelp\u001b[0m\u001b[1;33m(\u001b[0m\u001b[0mradians\u001b[0m\u001b[1;33m)\u001b[0m\u001b[1;33m\u001b[0m\u001b[1;33m\u001b[0m\u001b[0m\n\u001b[0m",
      "\u001b[1;31mNameError\u001b[0m: name 'radians' is not defined"
     ]
    }
   ],
   "source": [
    "help(radians)"
   ]
  },
  {
   "cell_type": "markdown",
   "metadata": {},
   "source": [
    "We are getting this error because `radians` is not fully qualified with its module name:"
   ]
  },
  {
   "cell_type": "code",
   "execution_count": 16,
   "metadata": {
    "tags": []
   },
   "outputs": [
    {
     "output_type": "stream",
     "name": "stdout",
     "text": "Help on built-in function radians in module math:\n\nradians(x, /)\n    Convert angle x from degrees to radians.\n\n"
    }
   ],
   "source": [
    "help(math.radians)"
   ]
  },
  {
   "cell_type": "code",
   "execution_count": 17,
   "metadata": {},
   "outputs": [
    {
     "output_type": "execute_result",
     "data": {
      "text/plain": "3.141592653589793"
     },
     "metadata": {},
     "execution_count": 17
    }
   ],
   "source": [
    "math.radians(180)"
   ]
  }
 ]
}