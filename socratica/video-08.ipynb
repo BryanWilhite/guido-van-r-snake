{
 "metadata": {
  "language_info": {
   "codemirror_mode": {
    "name": "ipython",
    "version": 3
   },
   "file_extension": ".py",
   "mimetype": "text/x-python",
   "name": "python",
   "nbconvert_exporter": "python",
   "pygments_lexer": "ipython3",
   "version": "3.7.6-final"
  },
  "orig_nbformat": 2,
  "kernelspec": {
   "name": "python3",
   "display_name": "Python 3"
  }
 },
 "nbformat": 4,
 "nbformat_minor": 2,
 "cells": [
  {
   "cell_type": "markdown",
   "metadata": {},
   "source": [
    "# Python Programming Tutorials (Computer Science)\n",
    "\n",
    "The 🦉 [Socratica](https://www.youtube.com/channel/UCW6TXMZ5Pq6yL6_k5NZ2e0Q) YouTube Channel has a 33-video [playlist](https://www.youtube.com/watch?v=bY6m6_IIN94&list=PLi01XoE8jYohWFPpC17Z-wWhPOSuh8Er-) devoted to the introduction of Python.\n",
    "\n",
    "The first _eight_ videos of this playlist is covered in this notebook."
   ]
  },
  {
   "cell_type": "markdown",
   "metadata": {},
   "source": [
    "## #8 Interactive Help\n",
    "\n",
    "The Python `dir()` function [📖[docs](https://docs.python.org/3.8/library/functions.html#dir)] provides the ability to enumerate the names of objects in local scope."
   ]
  },
  {
   "cell_type": "code",
   "execution_count": 17,
   "metadata": {},
   "outputs": [
    {
     "output_type": "execute_result",
     "data": {
      "text/plain": "['In',\n 'Out',\n '_',\n '_1',\n '_10',\n '_12',\n '_13',\n '_14',\n '_15',\n '_2',\n '_4',\n '_5',\n '_7',\n '_8',\n '__',\n '___',\n '__builtin__',\n '__builtins__',\n '__doc__',\n '__loader__',\n '__name__',\n '__package__',\n '__spec__',\n '_dh',\n '_i',\n '_i1',\n '_i10',\n '_i11',\n '_i12',\n '_i13',\n '_i14',\n '_i15',\n '_i16',\n '_i17',\n '_i2',\n '_i3',\n '_i4',\n '_i5',\n '_i6',\n '_i7',\n '_i8',\n '_i9',\n '_ih',\n '_ii',\n '_iii',\n '_oh',\n '_rwho_ls',\n 'exit',\n 'get_ipython',\n 'math',\n 'os',\n 'quit',\n 'sys']"
     },
     "metadata": {},
     "execution_count": 17
    }
   ],
   "source": [
    "dir()"
   ]
  },
  {
   "cell_type": "markdown",
   "metadata": {},
   "source": [
    "We focus on the `__builtins__` module by enumerating its objects:"
   ]
  },
  {
   "cell_type": "code",
   "execution_count": 2,
   "metadata": {},
   "outputs": [
    {
     "output_type": "execute_result",
     "data": {
      "text/plain": "['ArithmeticError',\n 'AssertionError',\n 'AttributeError',\n 'BaseException',\n 'BlockingIOError',\n 'BrokenPipeError',\n 'BufferError',\n 'BytesWarning',\n 'ChildProcessError',\n 'ConnectionAbortedError',\n 'ConnectionError',\n 'ConnectionRefusedError',\n 'ConnectionResetError',\n 'DeprecationWarning',\n 'EOFError',\n 'Ellipsis',\n 'EnvironmentError',\n 'Exception',\n 'False',\n 'FileExistsError',\n 'FileNotFoundError',\n 'FloatingPointError',\n 'FutureWarning',\n 'GeneratorExit',\n 'IOError',\n 'ImportError',\n 'ImportWarning',\n 'IndentationError',\n 'IndexError',\n 'InterruptedError',\n 'IsADirectoryError',\n 'KeyError',\n 'KeyboardInterrupt',\n 'LookupError',\n 'MemoryError',\n 'ModuleNotFoundError',\n 'NameError',\n 'None',\n 'NotADirectoryError',\n 'NotImplemented',\n 'NotImplementedError',\n 'OSError',\n 'OverflowError',\n 'PendingDeprecationWarning',\n 'PermissionError',\n 'ProcessLookupError',\n 'RecursionError',\n 'ReferenceError',\n 'ResourceWarning',\n 'RuntimeError',\n 'RuntimeWarning',\n 'StopAsyncIteration',\n 'StopIteration',\n 'SyntaxError',\n 'SyntaxWarning',\n 'SystemError',\n 'SystemExit',\n 'TabError',\n 'TimeoutError',\n 'True',\n 'TypeError',\n 'UnboundLocalError',\n 'UnicodeDecodeError',\n 'UnicodeEncodeError',\n 'UnicodeError',\n 'UnicodeTranslateError',\n 'UnicodeWarning',\n 'UserWarning',\n 'ValueError',\n 'Warning',\n 'WindowsError',\n 'ZeroDivisionError',\n '__IPYTHON__',\n '__build_class__',\n '__debug__',\n '__doc__',\n '__import__',\n '__loader__',\n '__name__',\n '__package__',\n '__spec__',\n 'abs',\n 'all',\n 'any',\n 'ascii',\n 'bin',\n 'bool',\n 'breakpoint',\n 'bytearray',\n 'bytes',\n 'callable',\n 'chr',\n 'classmethod',\n 'compile',\n 'complex',\n 'copyright',\n 'credits',\n 'delattr',\n 'dict',\n 'dir',\n 'display',\n 'divmod',\n 'enumerate',\n 'eval',\n 'exec',\n 'filter',\n 'float',\n 'format',\n 'frozenset',\n 'get_ipython',\n 'getattr',\n 'globals',\n 'hasattr',\n 'hash',\n 'help',\n 'hex',\n 'id',\n 'input',\n 'int',\n 'isinstance',\n 'issubclass',\n 'iter',\n 'len',\n 'license',\n 'list',\n 'locals',\n 'map',\n 'max',\n 'memoryview',\n 'min',\n 'next',\n 'object',\n 'oct',\n 'open',\n 'ord',\n 'pow',\n 'print',\n 'property',\n 'range',\n 'repr',\n 'reversed',\n 'round',\n 'set',\n 'setattr',\n 'slice',\n 'sorted',\n 'staticmethod',\n 'str',\n 'sum',\n 'super',\n 'tuple',\n 'type',\n 'vars',\n 'zip']"
     },
     "metadata": {},
     "execution_count": 2
    }
   ],
   "source": [
    "dir(__builtins__)"
   ]
  },
  {
   "cell_type": "markdown",
   "metadata": {},
   "source": [
    "We can read the documentation for these objects, say, `pow` by using the `help()` function:"
   ]
  },
  {
   "cell_type": "code",
   "execution_count": 3,
   "metadata": {
    "tags": []
   },
   "outputs": [
    {
     "output_type": "stream",
     "name": "stdout",
     "text": "Help on built-in function pow in module builtins:\n\npow(x, y, z=None, /)\n    Equivalent to x**y (with two arguments) or x**y % z (with three arguments)\n    \n    Some types, such as ints, are able to use a more efficient algorithm when\n    invoked using the three argument form.\n\n"
    }
   ],
   "source": [
    "help(pow)"
   ]
  },
  {
   "cell_type": "code",
   "execution_count": 4,
   "metadata": {},
   "outputs": [
    {
     "output_type": "execute_result",
     "data": {
      "text/plain": "1024"
     },
     "metadata": {},
     "execution_count": 4
    }
   ],
   "source": [
    "pow(2, 10)"
   ]
  },
  {
   "cell_type": "code",
   "execution_count": 5,
   "metadata": {},
   "outputs": [
    {
     "output_type": "execute_result",
     "data": {
      "text/plain": "1024"
     },
     "metadata": {},
     "execution_count": 5
    }
   ],
   "source": [
    "2**10"
   ]
  },
  {
   "cell_type": "markdown",
   "metadata": {},
   "source": [
    "Another function, say, `hex`:"
   ]
  },
  {
   "cell_type": "code",
   "execution_count": 6,
   "metadata": {
    "tags": []
   },
   "outputs": [
    {
     "output_type": "stream",
     "name": "stdout",
     "text": "Help on built-in function hex in module builtins:\n\nhex(number, /)\n    Return the hexadecimal representation of an integer.\n    \n    >>> hex(12648430)\n    '0xc0ffee'\n\n"
    }
   ],
   "source": [
    "help(hex)"
   ]
  },
  {
   "cell_type": "code",
   "execution_count": 7,
   "metadata": {},
   "outputs": [
    {
     "output_type": "execute_result",
     "data": {
      "text/plain": "'0xa'"
     },
     "metadata": {},
     "execution_count": 7
    }
   ],
   "source": [
    "hex(10)"
   ]
  },
  {
   "cell_type": "markdown",
   "metadata": {},
   "source": [
    "Note that hexadecimals in Python are prefixed with `'0x'` so `hex(10)` is _a_.\n",
    "\n",
    "We can verify this by converting back to decimal:"
   ]
  },
  {
   "cell_type": "code",
   "execution_count": 8,
   "metadata": {},
   "outputs": [
    {
     "output_type": "execute_result",
     "data": {
      "text/plain": "10"
     },
     "metadata": {},
     "execution_count": 8
    }
   ],
   "source": [
    "0xa"
   ]
  },
  {
   "cell_type": "markdown",
   "metadata": {},
   "source": [
    "To list all available modules that can be imported into the current scope, pass a magic string, `'modules'`, to the `help()` function:"
   ]
  },
  {
   "cell_type": "code",
   "execution_count": 25,
   "metadata": {
    "tags": []
   },
   "outputs": [
    {
     "output_type": "stream",
     "name": "stdout",
     "text": "\nPlease wait a moment while I gather a list of all available modules...\n\nCryptobuiltinsmklsocks\nCythonbz2mkl_fftsockshandler\nIPythoncProfilemkl_randomsortImports\nOpenSSLcalendarmmapsortedcollections\nPILcertifimmapfilesortedcontainers\nPyQt5cffimmsystemsoupsieve\n__future__cgimocksphinx\n_abccgitbmodulefindersphinxcontrib\n_astchardetmore_itertoolssphinxify\n_asynciochunkmpmathsphinxthread\n_bisectclickmsgpackspyder\n_blake2cloudpicklemsilibspyder_kernels\n_bootlocaleclyentmsvcrtsqlalchemy\n_bz2cmathmultipledispatchsqlite3\n_cffi_backendcmdmultiprocessingsre_compile\n_codecscodenaclsre_constants\n_codecs_cncodecsnavigator_updatersre_parse\n_codecs_hkcodeopnbconvertssl\n_codecs_iso2022collectionsnbformatsspi\n_codecs_jpcoloramanetbiossspicon\n_codecs_krcolorsysnetrcstat\n_codecs_twcommctrlnetworkxstatistics\n_collectionscompileallnltkstatsmodels\n_collections_abccompletionnntplibstoremagic\n_compat_picklecomtypesnormalizeForInterpreterstring\n_compressionconcurrentnosestringprep\n_contextvarscondanotebookstruct\n_csvconda_buildntsubprocess\n_ctypesconda_envntpathsunau\n_ctypes_testconda_package_handlingntsecurityconsymbol\n_datetimeconda_verifynturl2pathsymbolProvider\n_decimalconfnumbasympy\n_dummy_threadconfigparsernumberssympyprinting\n_elementtreecontextlibnumexprsymtable\n_functoolscontextlib2numpysys\n_hashlibcontextvarsnumpydocsysconfig\n_heapqcopyodbctables\n_impcopyregolefiletabnanny\n_iocryptopcodetarfile\n_jsoncryptographyopenpyxltblib\n_localecsvoperatortelnetlib\n_lsprofctypesoptparsetempfile\n_lzmacurlosterminado\n_markupbasecursespackagingtest\n_md5cwppandastest_data\n_msicyclerpandocfilterstest_pycosat\n_multibytecodeccythonparamikotesting_tools\n_multiprocessingcythonmagicparsertestlauncher\n_nsiscytoolzparsotestpath\n_opcodedaskpartdtests\n_operatordataclassespasttextwrap\n_osx_supportdatetimepaththis\n_overlappeddateutilpathlibthreading\n_pickledbipathlib2time\n_py_abcdbmpathtoolstimeit\n_pydecimalddepatsytimer\n_pyiodebugpypdbtkinter\n_pyliefdecimalpep8tlz\n_pyrsistent_versiondecoratorperfmontoken\n_pytestdefusedxmlpexpecttokenize\n_queuediff_match_patchpickletoolz\n_randomdifflibpicklesharetornado\n_sha1dispickletoolstqdm\n_sha256distributedpiptrace\n_sha3distutilspipestraceback\n_sha512doctestpkg_resourcestracemalloc\n_signaldocutilspkginfotraitlets\n_sitebuiltinsdummy_threadingpkgutiltty\n_socketeasy_installplatformturtle\n_sqlite3emailplistlibturtledemo\n_sreencodingspluggytypes\n_sslensurepipplytyping\n_statentrypointspoplibujson\n_stringenumposixpathunicodecsv\n_strptimeerrnopprintunicodedata\n_structet_xmlfileprintEnvVariablesunittest\n_symtablefastcacheprintEnvVariablesToFileurllib\n_system_pathfaulthandlerprofileurllib3\n_testbufferfilecmpprometheus_clientuu\n_testcapifileinputprompt_toolkituuid\n_testconsolefilelockpstatsvboxapi\n_testimportmultipleflake8psutilvenv\n_testmultiphaseflaskptyvisualstudio_py_testlauncher\n_threadfnmatchpvectorcvscode_datascience_helpers\n_threading_localformatterpywarnings\n_tkinterfractionspy_compilewatchdog\n_tracemallocfsspecpyclbrwave\n_warningsftplibpycodestylewcwidth\n_weakreffunctoolspycosatweakref\n_weakrefsetfuturepycparserwebbrowser\n_win32sysloadergcpycurlwebencodings\n_winapigenericpathpydocwerkzeug\n_winxpthemegetoptpydoc_datawheel\n_yamlgetpasspydocstylewidgetsnbextension\nabcgettextpyexpatwin2kras\nadodbapigeventpyflakeswin32api\nafxresglobpygmentswin32clipboard\naifcglob2pylabwin32com\nalabastergreenletpylintwin32con\nanaconda_navigatorgzippylswin32console\nanaconda_projecth5pypyls_jsonrpcwin32cred\nantigravityhashlibpyodbcwin32crypt\narghheapdictpyparsingwin32cryptcon\nargparseheapqpyreadlinewin32ctypes\narrayhmacpyrsistentwin32event\nasn1cryptohtmlpytestwin32evtlog\nasthtml5libpytest_arraydiffwin32evtlogutil\nastroidhttppytest_astropy_headerwin32file\nastropyhypothesispytest_doctestpluswin32gui\nasynchatidlelibpytest_openfileswin32gui_struct\nasyncioidnapytest_remotedatawin32help\nasyncoreimageiopythoncomwin32inet\natexitimagesizepytzwin32inetcon\natomicwritesimaplibpyvsc-run-isolatedwin32job\nattrimghdrpywinwin32lz\naudioopimppywin32_bootstrapwin32net\nautopep8importlibpywin32_testutilwin32netcon\nautoreloadimportlib_metadatapywintypeswin32pdh\nbabelinspectpywtwin32pdhquery\nbackcallinstall_debugpypyximportwin32pdhutil\nbackportsinterpreterInfoqdarkstylewin32pipe\nbase64intervaltreeqtawesomewin32print\nbcryptioqtconsolewin32process\nbdbipaddressqtpywin32profile\nbinasciiipykernelqueuewin32ras\nbinhexipykernel_launcherquopriwin32rcparser\nbinstar_clientipython_genutilsrandomwin32security\nbisectipywidgetsrasutilwin32service\nbitarrayisapirewin32serviceutil\nbkchartsisortreadlinewin32timezone\nbleachisympyrefactorwin32trace\nbokehitertoolsregcheckwin32traceutil\nbotoitsdangerousregutilwin32transaction\nbottleneckjdcalreprlibwin32ts\nbrain_argparsejedirequestswin32ui\nbrain_attrsjinja2rlcompleterwin32uiole\nbrain_builtin_inferencejoblibrmagicwin32verstamp\nbrain_collectionsjsonropewin32wnet\nbrain_cryptjson5rtreewin_inet_pton\nbrain_cursesjsonschemaruamel_yamlwin_unicode_console\nbrain_dataclassesjupyterrunwincertstore\nbrain_dateutiljupyter_clientrunpywinerror\nbrain_fstringsjupyter_consoleschedwinioctlcon\nbrain_functoolsjupyter_corescipywinnt\nbrain_gijupyterlabscriptswinperf\nbrain_hashlibjupyterlab_serverseabornwinpty\nbrain_httpkeyringsecretswinreg\nbrain_iokeywordselectwinsound\nbrain_mechanizekiwisolverselectorswinxpgui\nbrain_multiprocessinglazy_object_proxysend2trashwinxptheme\nbrain_namedtuple_enumlib2to3servicemanagerwrapt\nbrain_noselibarchivesetuptoolswsgiref\nbrain_numpy_core_fromnumericlibfuturizeshell_execxdrlib\nbrain_numpy_core_function_baselibpasteurizeshelvexlrd\nbrain_numpy_core_multiarrayliefshlexxlsxwriter\nbrain_numpy_core_numericlinecacheshutilxlwings\nbrain_numpy_core_numerictypesllvmlitesignalxlwt\nbrain_numpy_core_umathlocalesimplegenericxml\nbrain_numpy_ndarraylocketsingledispatchxmlrpc\nbrain_numpy_random_mtrandloggingsingledispatch_helpersxmltodict\nbrain_numpy_utilslxmlsipxxsubtype\nbrain_pkg_resourceslzmasipconfigyaml\nbrain_pytestmacpathsipdistutilsyapf\nbrain_qtmailboxsiteyapftests\nbrain_randommailcapsixzict\nbrain_remarkupsafeskimagezipapp\nbrain_sixmarshalsklearnzipfile\nbrain_sslmathsmtpdzipimport\nbrain_subprocessmatplotlibsmtplibzipp\nbrain_threadingmccabesndhdrzlib\nbrain_typingmenuinstsnowballstemmerzmq\nbrain_uuidmimetypessocket\nbs4mistunesocketserver\n\nEnter any module name to get more help.  Or, type \"modules spam\" to search\nfor modules whose name or summary contain the string \"spam\".\n\n"
    }
   ],
   "source": [
    "help('modules')"
   ]
  },
  {
   "cell_type": "code",
   "execution_count": 10,
   "metadata": {},
   "outputs": [
    {
     "output_type": "execute_result",
     "data": {
      "text/plain": "['In',\n 'Out',\n '_',\n '_1',\n '_2',\n '_4',\n '_5',\n '_7',\n '_8',\n '__',\n '___',\n '__builtin__',\n '__builtins__',\n '__doc__',\n '__loader__',\n '__name__',\n '__package__',\n '__spec__',\n '_dh',\n '_i',\n '_i1',\n '_i10',\n '_i2',\n '_i3',\n '_i4',\n '_i5',\n '_i6',\n '_i7',\n '_i8',\n '_i9',\n '_ih',\n '_ii',\n '_iii',\n '_oh',\n '_rwho_ls',\n 'exit',\n 'get_ipython',\n 'math',\n 'os',\n 'quit',\n 'sys']"
     },
     "metadata": {},
     "execution_count": 10
    }
   ],
   "source": [
    "import math\n",
    "\n",
    "dir()"
   ]
  },
  {
   "cell_type": "code",
   "execution_count": 11,
   "metadata": {
    "tags": []
   },
   "outputs": [
    {
     "output_type": "stream",
     "name": "stdout",
     "text": "Help on built-in module math:\n\nNAME\n    math\n\nDESCRIPTION\n    This module provides access to the mathematical functions\n    defined by the C standard.\n\nFUNCTIONS\n    acos(x, /)\n        Return the arc cosine (measured in radians) of x.\n    \n    acosh(x, /)\n        Return the inverse hyperbolic cosine of x.\n    \n    asin(x, /)\n        Return the arc sine (measured in radians) of x.\n    \n    asinh(x, /)\n        Return the inverse hyperbolic sine of x.\n    \n    atan(x, /)\n        Return the arc tangent (measured in radians) of x.\n    \n    atan2(y, x, /)\n        Return the arc tangent (measured in radians) of y/x.\n        \n        Unlike atan(y/x), the signs of both x and y are considered.\n    \n    atanh(x, /)\n        Return the inverse hyperbolic tangent of x.\n    \n    ceil(x, /)\n        Return the ceiling of x as an Integral.\n        \n        This is the smallest integer >= x.\n    \n    copysign(x, y, /)\n        Return a float with the magnitude (absolute value) of x but the sign of y.\n        \n        On platforms that support signed zeros, copysign(1.0, -0.0)\n        returns -1.0.\n    \n    cos(x, /)\n        Return the cosine of x (measured in radians).\n    \n    cosh(x, /)\n        Return the hyperbolic cosine of x.\n    \n    degrees(x, /)\n        Convert angle x from radians to degrees.\n    \n    erf(x, /)\n        Error function at x.\n    \n    erfc(x, /)\n        Complementary error function at x.\n    \n    exp(x, /)\n        Return e raised to the power of x.\n    \n    expm1(x, /)\n        Return exp(x)-1.\n        \n        This function avoids the loss of precision involved in the direct evaluation of exp(x)-1 for small x.\n    \n    fabs(x, /)\n        Return the absolute value of the float x.\n    \n    factorial(x, /)\n        Find x!.\n        \n        Raise a ValueError if x is negative or non-integral.\n    \n    floor(x, /)\n        Return the floor of x as an Integral.\n        \n        This is the largest integer <= x.\n    \n    fmod(x, y, /)\n        Return fmod(x, y), according to platform C.\n        \n        x % y may differ.\n    \n    frexp(x, /)\n        Return the mantissa and exponent of x, as pair (m, e).\n        \n        m is a float and e is an int, such that x = m * 2.**e.\n        If x is 0, m and e are both 0.  Else 0.5 <= abs(m) < 1.0.\n    \n    fsum(seq, /)\n        Return an accurate floating point sum of values in the iterable seq.\n        \n        Assumes IEEE-754 floating point arithmetic.\n    \n    gamma(x, /)\n        Gamma function at x.\n    \n    gcd(x, y, /)\n        greatest common divisor of x and y\n    \n    hypot(x, y, /)\n        Return the Euclidean distance, sqrt(x*x + y*y).\n    \n    isclose(a, b, *, rel_tol=1e-09, abs_tol=0.0)\n        Determine whether two floating point numbers are close in value.\n        \n          rel_tol\n            maximum difference for being considered \"close\", relative to the\n            magnitude of the input values\n          abs_tol\n            maximum difference for being considered \"close\", regardless of the\n            magnitude of the input values\n        \n        Return True if a is close in value to b, and False otherwise.\n        \n        For the values to be considered close, the difference between them\n        must be smaller than at least one of the tolerances.\n        \n        -inf, inf and NaN behave similarly to the IEEE 754 Standard.  That\n        is, NaN is not close to anything, even itself.  inf and -inf are\n        only close to themselves.\n    \n    isfinite(x, /)\n        Return True if x is neither an infinity nor a NaN, and False otherwise.\n    \n    isinf(x, /)\n        Return True if x is a positive or negative infinity, and False otherwise.\n    \n    isnan(x, /)\n        Return True if x is a NaN (not a number), and False otherwise.\n    \n    ldexp(x, i, /)\n        Return x * (2**i).\n        \n        This is essentially the inverse of frexp().\n    \n    lgamma(x, /)\n        Natural logarithm of absolute value of Gamma function at x.\n    \n    log(...)\n        log(x, [base=math.e])\n        Return the logarithm of x to the given base.\n        \n        If the base not specified, returns the natural logarithm (base e) of x.\n    \n    log10(x, /)\n        Return the base 10 logarithm of x.\n    \n    log1p(x, /)\n        Return the natural logarithm of 1+x (base e).\n        \n        The result is computed in a way which is accurate for x near zero.\n    \n    log2(x, /)\n        Return the base 2 logarithm of x.\n    \n    modf(x, /)\n        Return the fractional and integer parts of x.\n        \n        Both results carry the sign of x and are floats.\n    \n    pow(x, y, /)\n        Return x**y (x to the power of y).\n    \n    radians(x, /)\n        Convert angle x from degrees to radians.\n    \n    remainder(x, y, /)\n        Difference between x and the closest integer multiple of y.\n        \n        Return x - n*y where n*y is the closest integer multiple of y.\n        In the case where x is exactly halfway between two multiples of\n        y, the nearest even value of n is used. The result is always exact.\n    \n    sin(x, /)\n        Return the sine of x (measured in radians).\n    \n    sinh(x, /)\n        Return the hyperbolic sine of x.\n    \n    sqrt(x, /)\n        Return the square root of x.\n    \n    tan(x, /)\n        Return the tangent of x (measured in radians).\n    \n    tanh(x, /)\n        Return the hyperbolic tangent of x.\n    \n    trunc(x, /)\n        Truncates the Real x to the nearest Integral toward 0.\n        \n        Uses the __trunc__ magic method.\n\nDATA\n    e = 2.718281828459045\n    inf = inf\n    nan = nan\n    pi = 3.141592653589793\n    tau = 6.283185307179586\n\nFILE\n    (built-in)\n\n\n"
    }
   ],
   "source": [
    "help(math)"
   ]
  },
  {
   "cell_type": "code",
   "execution_count": 12,
   "metadata": {},
   "outputs": [
    {
     "output_type": "execute_result",
     "data": {
      "text/plain": "['__doc__',\n '__loader__',\n '__name__',\n '__package__',\n '__spec__',\n 'acos',\n 'acosh',\n 'asin',\n 'asinh',\n 'atan',\n 'atan2',\n 'atanh',\n 'ceil',\n 'copysign',\n 'cos',\n 'cosh',\n 'degrees',\n 'e',\n 'erf',\n 'erfc',\n 'exp',\n 'expm1',\n 'fabs',\n 'factorial',\n 'floor',\n 'fmod',\n 'frexp',\n 'fsum',\n 'gamma',\n 'gcd',\n 'hypot',\n 'inf',\n 'isclose',\n 'isfinite',\n 'isinf',\n 'isnan',\n 'ldexp',\n 'lgamma',\n 'log',\n 'log10',\n 'log1p',\n 'log2',\n 'modf',\n 'nan',\n 'pi',\n 'pow',\n 'radians',\n 'remainder',\n 'sin',\n 'sinh',\n 'sqrt',\n 'tan',\n 'tanh',\n 'tau',\n 'trunc']"
     },
     "metadata": {},
     "execution_count": 12
    }
   ],
   "source": [
    "dir(math)"
   ]
  },
  {
   "cell_type": "code",
   "execution_count": 13,
   "metadata": {},
   "outputs": [
    {
     "output_type": "execute_result",
     "data": {
      "text/plain": "('_abc',\n '_ast',\n '_bisect',\n '_blake2',\n '_codecs',\n '_codecs_cn',\n '_codecs_hk',\n '_codecs_iso2022',\n '_codecs_jp',\n '_codecs_kr',\n '_codecs_tw',\n '_collections',\n '_contextvars',\n '_csv',\n '_datetime',\n '_functools',\n '_heapq',\n '_imp',\n '_io',\n '_json',\n '_locale',\n '_lsprof',\n '_md5',\n '_multibytecodec',\n '_opcode',\n '_operator',\n '_pickle',\n '_random',\n '_sha1',\n '_sha256',\n '_sha3',\n '_sha512',\n '_signal',\n '_sre',\n '_stat',\n '_string',\n '_struct',\n '_symtable',\n '_thread',\n '_tracemalloc',\n '_warnings',\n '_weakref',\n '_winapi',\n 'array',\n 'atexit',\n 'audioop',\n 'binascii',\n 'builtins',\n 'cmath',\n 'errno',\n 'faulthandler',\n 'gc',\n 'itertools',\n 'marshal',\n 'math',\n 'mmap',\n 'msvcrt',\n 'nt',\n 'parser',\n 'sys',\n 'time',\n 'winreg',\n 'xxsubtype',\n 'zipimport',\n 'zlib')"
     },
     "metadata": {},
     "execution_count": 13
    }
   ],
   "source": [
    "import sys\n",
    "sys.builtin_module_names"
   ]
  },
  {
   "cell_type": "code",
   "execution_count": 14,
   "metadata": {},
   "outputs": [
    {
     "output_type": "execute_result",
     "data": {
      "text/plain": "['__breakpointhook__',\n '__displayhook__',\n '__doc__',\n '__excepthook__',\n '__interactivehook__',\n '__loader__',\n '__name__',\n '__package__',\n '__spec__',\n '__stderr__',\n '__stdin__',\n '__stdout__',\n '_base_executable',\n '_clear_type_cache',\n '_current_frames',\n '_debugmallocstats',\n '_enablelegacywindowsfsencoding',\n '_framework',\n '_getframe',\n '_git',\n '_home',\n '_xoptions',\n 'api_version',\n 'argv',\n 'base_exec_prefix',\n 'base_prefix',\n 'breakpointhook',\n 'builtin_module_names',\n 'byteorder',\n 'call_tracing',\n 'callstats',\n 'copyright',\n 'displayhook',\n 'dllhandle',\n 'dont_write_bytecode',\n 'exc_info',\n 'excepthook',\n 'exec_prefix',\n 'executable',\n 'exit',\n 'flags',\n 'float_info',\n 'float_repr_style',\n 'get_asyncgen_hooks',\n 'get_coroutine_origin_tracking_depth',\n 'get_coroutine_wrapper',\n 'getallocatedblocks',\n 'getcheckinterval',\n 'getdefaultencoding',\n 'getfilesystemencodeerrors',\n 'getfilesystemencoding',\n 'getprofile',\n 'getrecursionlimit',\n 'getrefcount',\n 'getsizeof',\n 'getswitchinterval',\n 'gettrace',\n 'getwindowsversion',\n 'hash_info',\n 'hexversion',\n 'implementation',\n 'int_info',\n 'intern',\n 'is_finalizing',\n 'maxsize',\n 'maxunicode',\n 'meta_path',\n 'modules',\n 'path',\n 'path_hooks',\n 'path_importer_cache',\n 'platform',\n 'prefix',\n 'ps1',\n 'ps2',\n 'ps3',\n 'py2_modules',\n 'set_asyncgen_hooks',\n 'set_coroutine_origin_tracking_depth',\n 'set_coroutine_wrapper',\n 'setcheckinterval',\n 'setprofile',\n 'setrecursionlimit',\n 'setswitchinterval',\n 'settrace',\n 'stderr',\n 'stdin',\n 'stdout',\n 'thread_info',\n 'version',\n 'version_info',\n 'warnoptions',\n 'winver']"
     },
     "metadata": {},
     "execution_count": 14
    }
   ],
   "source": [
    "dir(sys)"
   ]
  },
  {
   "cell_type": "code",
   "execution_count": 15,
   "metadata": {},
   "outputs": [
    {
     "output_type": "execute_result",
     "data": {
      "text/plain": "['In',\n 'Out',\n '_',\n '_1',\n '_10',\n '_12',\n '_13',\n '_14',\n '_2',\n '_4',\n '_5',\n '_7',\n '_8',\n '__',\n '___',\n '__builtin__',\n '__builtins__',\n '__doc__',\n '__loader__',\n '__name__',\n '__package__',\n '__spec__',\n '_dh',\n '_i',\n '_i1',\n '_i10',\n '_i11',\n '_i12',\n '_i13',\n '_i14',\n '_i15',\n '_i2',\n '_i3',\n '_i4',\n '_i5',\n '_i6',\n '_i7',\n '_i8',\n '_i9',\n '_ih',\n '_ii',\n '_iii',\n '_oh',\n '_rwho_ls',\n 'exit',\n 'get_ipython',\n 'math',\n 'os',\n 'quit',\n 'sys']"
     },
     "metadata": {},
     "execution_count": 15
    }
   ],
   "source": [
    "dir()"
   ]
  }
 ]
}