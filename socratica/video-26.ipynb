{
 "metadata": {
  "language_info": {
   "codemirror_mode": {
    "name": "ipython",
    "version": 3
   },
   "file_extension": ".py",
   "mimetype": "text/x-python",
   "name": "python",
   "nbconvert_exporter": "python",
   "pygments_lexer": "ipython3",
   "version": "3.7.7-final"
  },
  "orig_nbformat": 2,
  "kernelspec": {
   "name": "python3",
   "display_name": "Python 3"
  }
 },
 "nbformat": 4,
 "nbformat_minor": 2,
 "cells": [
  {
   "source": [
    "# Python Programming Tutorials (Computer Science)\n",
    "\n",
    "The 🦉 [Socratica](https://www.youtube.com/channel/UCW6TXMZ5Pq6yL6_k5NZ2e0Q) YouTube Channel has a 33-video [playlist](https://www.youtube.com/playlist?list=PLi01XoE8jYohWFPpC17Z-wWhPOSuh8Er-) devoted to the introduction of Python.\n",
    "\n",
    "## #26 JSON in Python"
   ],
   "cell_type": "markdown",
   "metadata": {}
  },
  {
   "cell_type": "code",
   "execution_count": 1,
   "metadata": {},
   "outputs": [],
   "source": [
    "%run video-00.py"
   ]
  },
  {
   "cell_type": "code",
   "execution_count": 2,
   "metadata": {},
   "outputs": [
    {
     "output_type": "execute_result",
     "data": {
      "text/plain": "<IPython.lib.display.YouTubeVideo at 0x7f698011b310>",
      "text/html": "\n        <iframe\n            width=\"400\"\n            height=\"300\"\n            src=\"https://www.youtube.com/embed/pTT7HMqDnJw\"\n            frameborder=\"0\"\n            allowfullscreen\n        ></iframe>\n        ",
      "image/jpeg": "[encoded data removed]"
     },
     "metadata": {},
     "execution_count": 2
    },
    {
     "output_type": "execute_result",
     "data": {
      "text/plain": "<IPython.core.display.HTML object>",
      "text/html": "<a href=\"https://www.youtube.com/embed/pTT7HMqDnJw\">link</a>"
     },
     "metadata": {},
     "execution_count": 2
    }
   ],
   "source": [
    "from IPython import display\n",
    "\n",
    "video = display.YouTubeVideo('pTT7HMqDnJw')\n",
    "video\n",
    "display.HTML(f'<a href=\"{video.src}\">link</a>')"
   ]
  },
  {
   "source": [
    "From [json.org](https://www.json.org/json-en.html):\n",
    "\n",
    ">JSON (JavaScript Object Notation) is a lightweight data-interchange format. It is easy for humans to read and write. It is easy for machines to parse and generate.\n",
    "\n",
    "Python supports JSON with the `json` module:"
   ],
   "cell_type": "markdown",
   "metadata": {}
  },
  {
   "cell_type": "code",
   "execution_count": 4,
   "metadata": {},
   "outputs": [
    {
     "output_type": "execute_result",
     "data": {
      "text/plain": "['JSONDecodeError',\n 'JSONDecoder',\n 'JSONEncoder',\n '_default_decoder',\n '_default_encoder',\n 'codecs',\n 'decoder',\n 'detect_encoding',\n 'dump',\n 'dumps',\n 'encoder',\n 'load',\n 'loads',\n 'scanner']"
     },
     "metadata": {},
     "execution_count": 4
    }
   ],
   "source": [
    "import json\n",
    "\n",
    "[i for i in dir(json) if not(i.startswith('__'))]"
   ]
  },
  {
   "source": [
    "We start with the _dump_ and _load_ concepts in this module:"
   ],
   "cell_type": "markdown",
   "metadata": {}
  },
  {
   "cell_type": "code",
   "execution_count": 6,
   "metadata": {
    "tags": []
   },
   "outputs": [
    {
     "output_type": "stream",
     "name": "stdout",
     "text": "Help on function dumps in module json:\n\ndumps(obj, *, skipkeys=False, ensure_ascii=True, check_circular=True, allow_nan=True, cls=None, indent=None, separators=None, default=None, sort_keys=False, **kw)\n    Serialize ``obj`` to a JSON formatted ``str``.\n    \n    If ``skipkeys`` is true then ``dict`` keys that are not basic types\n    (``str``, ``int``, ``float``, ``bool``, ``None``) will be skipped\n    instead of raising a ``TypeError``.\n    \n    If ``ensure_ascii`` is false, then the return value can contain non-ASCII\n    characters if they appear in strings contained in ``obj``. Otherwise, all\n    such characters are escaped in JSON strings.\n    \n    If ``check_circular`` is false, then the circular reference check\n    for container types will be skipped and a circular reference will\n    result in an ``OverflowError`` (or worse).\n    \n    If ``allow_nan`` is false, then it will be a ``ValueError`` to\n    serialize out of range ``float`` values (``nan``, ``inf``, ``-inf``) in\n    strict compliance of the JSON specification, instead of using the\n    JavaScript equivalents (``NaN``, ``Infinity``, ``-Infinity``).\n    \n    If ``indent`` is a non-negative integer, then JSON array elements and\n    object members will be pretty-printed with that indent level. An indent\n    level of 0 will only insert newlines. ``None`` is the most compact\n    representation.\n    \n    If specified, ``separators`` should be an ``(item_separator, key_separator)``\n    tuple.  The default is ``(', ', ': ')`` if *indent* is ``None`` and\n    ``(',', ': ')`` otherwise.  To get the most compact JSON representation,\n    you should specify ``(',', ':')`` to eliminate whitespace.\n    \n    ``default(obj)`` is a function that should return a serializable version\n    of obj or raise TypeError. The default simply raises TypeError.\n    \n    If *sort_keys* is true (default: ``False``), then the output of\n    dictionaries will be sorted by key.\n    \n    To use a custom ``JSONEncoder`` subclass (e.g. one that overrides the\n    ``.default()`` method to serialize additional types), specify it with\n    the ``cls`` kwarg; otherwise ``JSONEncoder`` is used.\n\nHelp on function dump in module json:\n\ndump(obj, fp, *, skipkeys=False, ensure_ascii=True, check_circular=True, allow_nan=True, cls=None, indent=None, separators=None, default=None, sort_keys=False, **kw)\n    Serialize ``obj`` as a JSON formatted stream to ``fp`` (a\n    ``.write()``-supporting file-like object).\n    \n    If ``skipkeys`` is true then ``dict`` keys that are not basic types\n    (``str``, ``int``, ``float``, ``bool``, ``None``) will be skipped\n    instead of raising a ``TypeError``.\n    \n    If ``ensure_ascii`` is false, then the strings written to ``fp`` can\n    contain non-ASCII characters if they appear in strings contained in\n    ``obj``. Otherwise, all such characters are escaped in JSON strings.\n    \n    If ``check_circular`` is false, then the circular reference check\n    for container types will be skipped and a circular reference will\n    result in an ``OverflowError`` (or worse).\n    \n    If ``allow_nan`` is false, then it will be a ``ValueError`` to\n    serialize out of range ``float`` values (``nan``, ``inf``, ``-inf``)\n    in strict compliance of the JSON specification, instead of using the\n    JavaScript equivalents (``NaN``, ``Infinity``, ``-Infinity``).\n    \n    If ``indent`` is a non-negative integer, then JSON array elements and\n    object members will be pretty-printed with that indent level. An indent\n    level of 0 will only insert newlines. ``None`` is the most compact\n    representation.\n    \n    If specified, ``separators`` should be an ``(item_separator, key_separator)``\n    tuple.  The default is ``(', ', ': ')`` if *indent* is ``None`` and\n    ``(',', ': ')`` otherwise.  To get the most compact JSON representation,\n    you should specify ``(',', ':')`` to eliminate whitespace.\n    \n    ``default(obj)`` is a function that should return a serializable version\n    of obj or raise TypeError. The default simply raises TypeError.\n    \n    If *sort_keys* is true (default: ``False``), then the output of\n    dictionaries will be sorted by key.\n    \n    To use a custom ``JSONEncoder`` subclass (e.g. one that overrides the\n    ``.default()`` method to serialize additional types), specify it with\n    the ``cls`` kwarg; otherwise ``JSONEncoder`` is used.\n\n"
    }
   ],
   "source": [
    "help(json.dumps)\n",
    "help(json.dump)"
   ]
  },
  {
   "cell_type": "code",
   "execution_count": 7,
   "metadata": {
    "tags": []
   },
   "outputs": [
    {
     "output_type": "stream",
     "name": "stdout",
     "text": "Help on function loads in module json:\n\nloads(s, *, encoding=None, cls=None, object_hook=None, parse_float=None, parse_int=None, parse_constant=None, object_pairs_hook=None, **kw)\n    Deserialize ``s`` (a ``str``, ``bytes`` or ``bytearray`` instance\n    containing a JSON document) to a Python object.\n    \n    ``object_hook`` is an optional function that will be called with the\n    result of any object literal decode (a ``dict``). The return value of\n    ``object_hook`` will be used instead of the ``dict``. This feature\n    can be used to implement custom decoders (e.g. JSON-RPC class hinting).\n    \n    ``object_pairs_hook`` is an optional function that will be called with the\n    result of any object literal decoded with an ordered list of pairs.  The\n    return value of ``object_pairs_hook`` will be used instead of the ``dict``.\n    This feature can be used to implement custom decoders.  If ``object_hook``\n    is also defined, the ``object_pairs_hook`` takes priority.\n    \n    ``parse_float``, if specified, will be called with the string\n    of every JSON float to be decoded. By default this is equivalent to\n    float(num_str). This can be used to use another datatype or parser\n    for JSON floats (e.g. decimal.Decimal).\n    \n    ``parse_int``, if specified, will be called with the string\n    of every JSON int to be decoded. By default this is equivalent to\n    int(num_str). This can be used to use another datatype or parser\n    for JSON integers (e.g. float).\n    \n    ``parse_constant``, if specified, will be called with one of the\n    following strings: -Infinity, Infinity, NaN.\n    This can be used to raise an exception if invalid JSON numbers\n    are encountered.\n    \n    To use a custom ``JSONDecoder`` subclass, specify it with the ``cls``\n    kwarg; otherwise ``JSONDecoder`` is used.\n    \n    The ``encoding`` argument is ignored and deprecated.\n\nHelp on function load in module json:\n\nload(fp, *, cls=None, object_hook=None, parse_float=None, parse_int=None, parse_constant=None, object_pairs_hook=None, **kw)\n    Deserialize ``fp`` (a ``.read()``-supporting file-like object containing\n    a JSON document) to a Python object.\n    \n    ``object_hook`` is an optional function that will be called with the\n    result of any object literal decode (a ``dict``). The return value of\n    ``object_hook`` will be used instead of the ``dict``. This feature\n    can be used to implement custom decoders (e.g. JSON-RPC class hinting).\n    \n    ``object_pairs_hook`` is an optional function that will be called with the\n    result of any object literal decoded with an ordered list of pairs.  The\n    return value of ``object_pairs_hook`` will be used instead of the ``dict``.\n    This feature can be used to implement custom decoders.  If ``object_hook``\n    is also defined, the ``object_pairs_hook`` takes priority.\n    \n    To use a custom ``JSONDecoder`` subclass, specify it with the ``cls``\n    kwarg; otherwise ``JSONDecoder`` is used.\n\n"
    }
   ],
   "source": [
    "help(json.loads)\n",
    "help(json.load)"
   ]
  },
  {
   "source": [
    "The _s_ at the end of these method names indicate _str_ implying that we are likely to be _dumping_ and _loading_ by files default:"
   ],
   "cell_type": "markdown",
   "metadata": {}
  },
  {
   "cell_type": "code",
   "execution_count": 9,
   "metadata": {},
   "outputs": [
    {
     "output_type": "execute_result",
     "data": {
      "text/plain": "dict"
     },
     "metadata": {},
     "execution_count": 9
    },
    {
     "output_type": "execute_result",
     "data": {
      "text/plain": "{'title': 'Gattaca',\n 'release_year': 1997,\n 'is_awesome': True,\n 'won_oscar': False,\n 'actors': ['Ethan Hawke', 'Uma Thurman', 'Alan Arkin', 'Loren Dean'],\n 'budget': None,\n 'credits': {'director': 'Andrew Niccol',\n  'writer': 'Adrew Niccol',\n  'composer': 'Michael Nyman',\n  'cinematographer': 'Sławomir Idziak'}}"
     },
     "metadata": {},
     "execution_count": 9
    }
   ],
   "source": [
    "json_file = open('./video-26.json', 'r', encoding='utf-8')\n",
    "movie = json.load(json_file)\n",
    "json_file.close()\n",
    "\n",
    "type(movie)\n",
    "movie"
   ]
  },
  {
   "source": [
    "We see that `movie` is a Python dictionary. Numeric, Boolean and null values were correctly translated into Python types.\n",
    "\n",
    "Now, the JSON string:"
   ],
   "cell_type": "markdown",
   "metadata": {}
  },
  {
   "cell_type": "code",
   "execution_count": 10,
   "metadata": {},
   "outputs": [
    {
     "output_type": "execute_result",
     "data": {
      "text/plain": "dict"
     },
     "metadata": {},
     "execution_count": 10
    },
    {
     "output_type": "execute_result",
     "data": {
      "text/plain": "{'title': 'Tron: Legacy',\n 'composer': 'Daft Punk',\n 'release_year': '2010',\n 'budget': '170000000',\n 'actors': None,\n 'won_oscar': False}"
     },
     "metadata": {},
     "execution_count": 10
    }
   ],
   "source": [
    "json_string = '''\n",
    "{\n",
    "    \"title\": \"Tron: Legacy\",\n",
    "    \"composer\": \"Daft Punk\",\n",
    "    \"release_year\": \"2010\",\n",
    "    \"budget\": \"170000000\",\n",
    "    \"actors\": null,\n",
    "    \"won_oscar\": false\n",
    "}\n",
    "'''\n",
    "\n",
    "tron = json.loads(json_string)\n",
    "\n",
    "type(tron)\n",
    "tron"
   ]
  },
  {
   "source": [
    "Note that we called `.loads()` without an encoding. According to the documentation above:\n",
    "\n",
    ">The ``encoding`` argument is ignored and deprecated.\n",
    "\n",
    "We can show how Python translates its type back to the JSON string format with `.dumps()`:"
   ],
   "cell_type": "markdown",
   "metadata": {}
  },
  {
   "cell_type": "code",
   "execution_count": 11,
   "metadata": {},
   "outputs": [
    {
     "output_type": "execute_result",
     "data": {
      "text/plain": "'{\"title\": \"Gattaca\", \"release_year\": 1997, \"is_awesome\": true, \"won_oscar\": false, \"actors\": [\"Ethan Hawke\", \"Uma Thurman\", \"Alan Arkin\", \"Loren Dean\"], \"budget\": null, \"credits\": {\"director\": \"Andrew Niccol\", \"writer\": \"Adrew Niccol\", \"composer\": \"Michael Nyman\", \"cinematographer\": \"S\\\\u0142awomir Idziak\"}}'"
     },
     "metadata": {},
     "execution_count": 11
    }
   ],
   "source": [
    "json.dumps(movie)"
   ]
  },
  {
   "source": [
    "Python defaults to ASCII, we see this in the use of Unicode escape strings for `S\\\\u0142awomir Idziak`. To avoid this default behavior and preserve the current encoding, use the `ensure_ascii` parameter:"
   ],
   "cell_type": "markdown",
   "metadata": {}
  },
  {
   "cell_type": "code",
   "execution_count": 12,
   "metadata": {},
   "outputs": [
    {
     "output_type": "execute_result",
     "data": {
      "text/plain": "'{\"title\": \"Gattaca\", \"release_year\": 1997, \"is_awesome\": true, \"won_oscar\": false, \"actors\": [\"Ethan Hawke\", \"Uma Thurman\", \"Alan Arkin\", \"Loren Dean\"], \"budget\": null, \"credits\": {\"director\": \"Andrew Niccol\", \"writer\": \"Adrew Niccol\", \"composer\": \"Michael Nyman\", \"cinematographer\": \"Sławomir Idziak\"}}'"
     },
     "metadata": {},
     "execution_count": 12
    }
   ],
   "source": [
    "json.dumps(movie, ensure_ascii=False)"
   ]
  },
  {
   "source": [
    "### Dumping JSON to a File\n",
    "\n",
    "We have seen that JSON and `dict` are related. We can convert `dict` to JSON and write it to disk:"
   ],
   "cell_type": "markdown",
   "metadata": {}
  },
  {
   "cell_type": "code",
   "execution_count": 19,
   "metadata": {},
   "outputs": [],
   "source": [
    "movie2 = {\n",
    "    'title': 'Minority Report',\n",
    "    'director': 'Steven Spielberg',\n",
    "    'composer': 'John Williams',\n",
    "    'actors': [\n",
    "        'Tom Cruise',\n",
    "        'Colin Farrell',\n",
    "        'Samantha Morton',\n",
    "        'Max von Sydow',\n",
    "    ],\n",
    "    'is_awesome': True,\n",
    "    'budget': 102000000,\n",
    "    'cinematographer': 'Janusz Kami\\u0144ski',\n",
    "}\n",
    "\n",
    "file2 = open('./video-26.txt', 'w', encoding='utf-8')\n",
    "json.dump(movie2, file2, ensure_ascii=False)\n",
    "file2.close()"
   ]
  },
  {
   "source": [
    "Let us verify the contents of the file:"
   ],
   "cell_type": "markdown",
   "metadata": {}
  },
  {
   "cell_type": "code",
   "execution_count": 20,
   "metadata": {
    "tags": []
   },
   "outputs": [
    {
     "output_type": "stream",
     "name": "stdout",
     "text": "{\"title\": \"Minority Report\", \"director\": \"Steven Spielberg\", \"composer\": \"John Williams\", \"actors\": [\"Tom Cruise\", \"Colin Farrell\", \"Samantha Morton\", \"Max von Sydow\"], \"is_awesome\": true, \"budget\": 102000000, \"cinematographer\": \"Janusz Kamiński\"}"
    }
   ],
   "source": [
    "%cat video-26.txt"
   ]
  }
 ]
}