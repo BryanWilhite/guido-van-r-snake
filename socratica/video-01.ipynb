{
 "metadata": {
  "language_info": {
   "codemirror_mode": {
    "name": "ipython",
    "version": 3
   },
   "file_extension": ".py",
   "mimetype": "text/x-python",
   "name": "python",
   "nbconvert_exporter": "python",
   "pygments_lexer": "ipython3",
   "version": "3.7.6-final"
  },
  "orig_nbformat": 2,
  "kernelspec": {
   "name": "python_defaultSpec_1598581743503",
   "display_name": "Python 3.7.6 64-bit (conda)"
  }
 },
 "nbformat": 4,
 "nbformat_minor": 2,
 "cells": [
  {
   "cell_type": "markdown",
   "metadata": {},
   "source": [
    "# Python Programming Tutorials (Computer Science)\n",
    "\n",
    "The 🦉 [Socratica](https://www.youtube.com/channel/UCW6TXMZ5Pq6yL6_k5NZ2e0Q) YouTube Channel has a 33-video [playlist](https://www.youtube.com/playlist?list=PLi01XoE8jYohWFPpC17Z-wWhPOSuh8Er-) devoted to the introduction of Python.\n",
    "\n",
    "## #1 Learn Python with Socratica\n",
    "\n",
    "The [first video](https://www.youtube.com/watch?v=bY6m6_IIN94&list=PLi01XoE8jYohWFPpC17Z-wWhPOSuh8Er-) is an awesome trailer:"
   ]
  },
  {
   "cell_type": "code",
   "execution_count": 1,
   "metadata": {},
   "outputs": [
    {
     "output_type": "execute_result",
     "data": {
      "text/plain": "<IPython.core.display.HTML object>",
      "text/html": "<a href=\"https://www.youtube.com/embed/bY6m6_IIN94\">link</a>"
     },
     "metadata": {},
     "execution_count": 1
    }
   ],
   "source": [
    "%run video-00.py\n",
    "\n",
    "from IPython import display\n",
    "\n",
    "video = display.YouTubeVideo('bY6m6_IIN94')\n",
    "video\n",
    "display.HTML(f'<a href=\"{video.src}\">link</a>')"
   ]
  }
 ]
}