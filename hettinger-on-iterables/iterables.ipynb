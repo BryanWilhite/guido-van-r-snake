{
 "cells": [
  {
   "cell_type": "markdown",
   "metadata": {},
   "source": [
    "# Hettinger on iterables\n",
    "\n",
    "Raymond Hettinger says that `for` should have been called `foreach`.\n",
    "\n",
    "This is because indices should almost always _never_ be used to do array lookups.\n",
    "\n",
    "## `range`\n",
    "\n",
    "The list of ten numbers below will be allocated entirely in memory:\n"
   ]
  },
  {
   "cell_type": "code",
   "execution_count": 2,
   "metadata": {},
   "outputs": [
    {
     "name": "stdout",
     "output_type": "stream",
     "text": [
      "handmade list:\n",
      "0\n",
      "2\n",
      "4\n",
      "6\n",
      "8\n"
     ]
    }
   ],
   "source": [
    "print('handmade list:')\n",
    "\n",
    "for i in [0, 1, 2, 3, 4, 6, 7, 8, 9]:\n",
    "    if (i % 2 == 0): print(i)"
   ]
  },
  {
   "cell_type": "markdown",
   "metadata": {},
   "source": [
    "The `range` function was first developed to replicate the list above—including the memory allocation.\n",
    "\n",
    "Then in order to save memory `xrange` was developed.\n",
    "\n",
    "Finally, `range` replaced `xrange` in order to do it right the first time:\n"
   ]
  },
  {
   "cell_type": "code",
   "execution_count": 5,
   "metadata": {},
   "outputs": [
    {
     "name": "stdout",
     "output_type": "stream",
     "text": [
      "range() function:\n",
      "0\n",
      "2\n",
      "4\n",
      "6\n",
      "8\n"
     ]
    }
   ],
   "source": [
    "print('range() function:')\n",
    "\n",
    "for i in range(0, 9, 2):\n",
    "    print(i)"
   ]
  },
  {
   "cell_type": "markdown",
   "metadata": {},
   "source": [
    "Indices should almost always _never_ be used to do array lookups.\n",
    "\n",
    "This means that this C++ habit is not cool:"
   ]
  },
  {
   "cell_type": "code",
   "execution_count": 8,
   "metadata": {},
   "outputs": [
    {
     "name": "stdout",
     "output_type": "stream",
     "text": [
      "crappy C++ style:\n",
      "red\n",
      "green\n",
      "blue\n",
      "yellow\n"
     ]
    }
   ],
   "source": [
    "colors = ['red', 'green', 'blue', 'yellow']\n",
    "\n",
    "print('crappy C++ style:')\n",
    "\n",
    "for i in range(len(colors)):\n",
    "    print(colors[i])"
   ]
  },
  {
   "cell_type": "markdown",
   "metadata": {},
   "source": [
    "`for` in Python is just like `foreach` in C#:"
   ]
  },
  {
   "cell_type": "code",
   "execution_count": 10,
   "metadata": {},
   "outputs": [
    {
     "name": "stdout",
     "output_type": "stream",
     "text": [
      "cool Python style:\n",
      "red\n",
      "green\n",
      "blue\n",
      "yellow\n"
     ]
    }
   ],
   "source": [
    "print('cool Python style:')\n",
    "\n",
    "for color in colors:\n",
    "    print(color)"
   ]
  },
  {
   "cell_type": "markdown",
   "metadata": {},
   "source": [
    "LINQ of the .NET Framework: `Enumerable.Range()` is the equivalent of `range(<iterable>)` in Python.\n",
    "\n",
    "## `reversed`\n",
    "\n",
    "We can use `for` to loop backwards through a list using crappy C++ style:"
   ]
  },
  {
   "cell_type": "code",
   "execution_count": 15,
   "metadata": {},
   "outputs": [
    {
     "name": "stdout",
     "output_type": "stream",
     "text": [
      "crappy C++ style:\n",
      "yellow\n",
      "blue\n",
      "green\n",
      "red\n"
     ]
    }
   ],
   "source": [
    "colors = ['red', 'green', 'blue', 'yellow']\n",
    "\n",
    "print('crappy C++ style:')\n",
    "\n",
    "for i in range(len(colors) - 1, -1, -1):\n",
    "    print(colors[i])"
   ]
  },
  {
   "cell_type": "markdown",
   "metadata": {},
   "source": [
    "Or we can just use the `reversed` function:"
   ]
  },
  {
   "cell_type": "code",
   "execution_count": 16,
   "metadata": {},
   "outputs": [
    {
     "name": "stdout",
     "output_type": "stream",
     "text": [
      "cool Python style:\n",
      "yellow\n",
      "blue\n",
      "green\n",
      "red\n"
     ]
    }
   ],
   "source": [
    "print('cool Python style:')\n",
    "\n",
    "for color in reversed(colors):\n",
    "    print(color)"
   ]
  },
  {
   "cell_type": "markdown",
   "metadata": {},
   "source": [
    "LINQ of the .NET Framework: `IEnumerable.Reverse()` is the equivalent of `reversed(<iterable>)` in Python.\n",
    "\n",
    "## `enumerate`\n",
    "\n",
    "We can use `for` and `range` to loop over a list, showing indices, using crappy C++ style:"
   ]
  },
  {
   "cell_type": "code",
   "execution_count": 19,
   "metadata": {},
   "outputs": [
    {
     "name": "stdout",
     "output_type": "stream",
     "text": [
      "crappy C++ style:\n",
      "(0, '-->', 'red')\n",
      "(1, '-->', 'green')\n",
      "(2, '-->', 'blue')\n",
      "(3, '-->', 'yellow')\n"
     ]
    }
   ],
   "source": [
    "colors = ['red', 'green', 'blue', 'yellow']\n",
    "\n",
    "print('crappy C++ style:')\n",
    "\n",
    "for i in range(len(colors)):\n",
    "    print(i, '-->', colors[i])"
   ]
  },
  {
   "cell_type": "markdown",
   "metadata": {},
   "source": [
    "Or we can just use the `enumerate` function:"
   ]
  },
  {
   "cell_type": "code",
   "execution_count": 21,
   "metadata": {},
   "outputs": [
    {
     "name": "stdout",
     "output_type": "stream",
     "text": [
      "cool Python style:\n",
      "(0, '-->', 'red')\n",
      "(1, '-->', 'green')\n",
      "(2, '-->', 'blue')\n",
      "(3, '-->', 'yellow')\n"
     ]
    }
   ],
   "source": [
    "print('cool Python style:')\n",
    "\n",
    "for i, color in enumerate(colors):\n",
    "    print(i, '-->', colors[i])"
   ]
  },
  {
   "cell_type": "markdown",
   "metadata": {},
   "source": [
    "LINQ of the .NET Framework: `IEnumerable<string>.Select((color, i) => $\"{i} --> {color}\")` is the equivalent of the use of `enumerate(<iterable>)` above in Python.\n",
    "\n",
    "## `zip`\n",
    "\n",
    "We can use `for`, `range` and `min` to loop over two lists using crappy C++ style:"
   ]
  },
  {
   "cell_type": "code",
   "execution_count": 24,
   "metadata": {},
   "outputs": [
    {
     "name": "stdout",
     "output_type": "stream",
     "text": [
      "crappy C++ style:\n",
      "('raymond', '-->', 'red')\n",
      "('rachel', '-->', 'green')\n",
      "('matthew', '-->', 'blue')\n"
     ]
    }
   ],
   "source": [
    "names = ['raymond', 'rachel', 'matthew']\n",
    "colors = ['red', 'green', 'blue', 'yellow']\n",
    "\n",
    "print('crappy C++ style:')\n",
    "\n",
    "n = min(len(names), len(colors))\n",
    "for i in range(n):\n",
    "    print(names[i], '-->', colors[i])"
   ]
  },
  {
   "cell_type": "markdown",
   "metadata": {},
   "source": [
    "Or we can just use the `zip` function:"
   ]
  },
  {
   "cell_type": "code",
   "execution_count": 27,
   "metadata": {},
   "outputs": [
    {
     "name": "stdout",
     "output_type": "stream",
     "text": [
      "cool Python style:\n",
      "('raymond', '-->', 'red')\n",
      "('rachel', '-->', 'green')\n",
      "('matthew', '-->', 'blue')\n"
     ]
    }
   ],
   "source": [
    "print('cool Python style:')\n",
    "\n",
    "for name, color in zip(names, colors):\n",
    "    print(name, '-->', color)"
   ]
  },
  {
   "cell_type": "markdown",
   "metadata": {},
   "source": [
    "LINQ of the .NET Framework: `IEnumerable<string>.Zip(IEnumerable<string>, (name, color) => $\"{name} --> {color}\")` is the equivalent of the use of `zip(<iterable>)` above in Python.\n",
    "\n",
    "Raymond Hettinger says that `zip` goes back 50 years to the original paper on Lisp.\n",
    "\n",
    "This decades-old history also implies that it is not taking advantage\n",
    "of modern caching in CPUs as `zip` uses a third list to combine the two original lists.\n",
    "\n",
    "It follows that Raymond Hettinger recommends the use of `izip`.\n",
    "\n",
    "However, the efficiency of `izip` is in the `zip` function of Python 3.x.\n",
    "\n",
    "## `sorted`\n",
    "\n",
    "The `sorted()` function has no crappy C++ equivalents:"
   ]
  },
  {
   "cell_type": "code",
   "execution_count": 29,
   "metadata": {},
   "outputs": [
    {
     "name": "stdout",
     "output_type": "stream",
     "text": [
      "blue\n",
      "green\n",
      "red\n",
      "yellow\n",
      "\n",
      "sort descending:\n",
      "yellow\n",
      "red\n",
      "green\n",
      "blue\n"
     ]
    }
   ],
   "source": [
    "colors = ['red', 'green', 'blue', 'yellow']\n",
    "\n",
    "for color in sorted(colors):\n",
    "    print(color)\n",
    "\n",
    "print('\\nsort descending:')\n",
    "\n",
    "for color in sorted(colors, reverse=True):\n",
    "    print(color)"
   ]
  },
  {
   "cell_type": "markdown",
   "metadata": {},
   "source": [
    "When a custom sort order is required, crappy C++ qsort habits have emerged (the -1,1,0 convention):"
   ]
  },
  {
   "cell_type": "code",
   "execution_count": 31,
   "metadata": {},
   "outputs": [
    {
     "name": "stdout",
     "output_type": "stream",
     "text": [
      "\n",
      "crappy C++ style with `cmp=`:\n",
      "['red', 'blue', 'green', 'yellow']\n"
     ]
    }
   ],
   "source": [
    "def compare_length(c1, c2):\n",
    "    if len(c1) < len(c2): return -1\n",
    "    if len(c1) > len(c2): return 1\n",
    "    return 0\n",
    "\n",
    "print('crappy C++ style with `cmp=`:')\n",
    "\n",
    "try:\n",
    "    print(sorted(colors, cmp=compare_length))\n",
    "except:\n",
    "    print('Python 3.x no longer supports `cmp=`.')"
   ]
  },
  {
   "cell_type": "markdown",
   "metadata": {},
   "source": [
    "Use the `key` parameter of the `sorted()` function before resorting to qsort habits:"
   ]
  },
  {
   "cell_type": "code",
   "execution_count": 33,
   "metadata": {},
   "outputs": [
    {
     "name": "stdout",
     "output_type": "stream",
     "text": [
      "\n",
      "cool Python style:\n",
      "['red', 'blue', 'green', 'yellow']\n"
     ]
    }
   ],
   "source": [
    "print('\\ncool Python style:')\n",
    "\n",
    "print(sorted(colors, key=len))"
   ]
  },
  {
   "cell_type": "markdown",
   "metadata": {},
   "source": [
    "LINQ of the .NET Framework: `IEnumerable<string>.OrderBy(color => color.Length)` is the equivalent to the use of `sorted(<iterable>)` here in Python.\n",
    "\n",
    "## `iter`\n",
    "\n",
    "Raymond Hettinger wants to tell us that Python has `iter` to remedy the traditional approach to the sentinel-value (or control-break) pattern.\n",
    "\n",
    "Before he can do that he has to show us crappy way it was done in, say, C++.\n",
    "\n",
    "He shows us through the use of `open`, reading a text file:"
   ]
  },
  {
   "cell_type": "code",
   "execution_count": 35,
   "metadata": {},
   "outputs": [
    {
     "ename": "SyntaxError",
     "evalue": "invalid syntax (<ipython-input-35-7f61a9167b48>, line 4)",
     "output_type": "error",
     "traceback": [
      "\u001b[0;36m  File \u001b[0;32m\"<ipython-input-35-7f61a9167b48>\"\u001b[0;36m, line \u001b[0;32m4\u001b[0m\n\u001b[0;31m    txt = f'{os.path.dirname(__file__)}/05-iter.txt'\u001b[0m\n\u001b[0m                                                   ^\u001b[0m\n\u001b[0;31mSyntaxError\u001b[0m\u001b[0;31m:\u001b[0m invalid syntax\n"
     ]
    }
   ],
   "source": [
    "from functools import partial\n",
    "import os\n",
    "\n",
    "txt = f'{os.path.dirname(__file__)}/05-iter.txt'\n",
    "size = 8\n",
    "\n",
    "try:\n",
    "    with open(txt) as f:\n",
    "\n",
    "        print('crappy C++ style:')\n",
    "\n",
    "        blocks = []\n",
    "        while True:\n",
    "            block = f.read(size)\n",
    "            if block == '':\n",
    "                break\n",
    "            blocks.append(block)\n",
    "\n",
    "        print(blocks)\n",
    "\n",
    "    with open(txt) as f:\n",
    "\n",
    "        print('\\ncool Python style:')\n",
    "\n",
    "        blocks = []\n",
    "        for block in iter(partial(f.read, size), ''):\n",
    "            blocks.append(block)\n",
    "\n",
    "        print(blocks)\n",
    "\n",
    "except IOError as err:\n",
    "    print(err)"
   ]
  },
  {
   "cell_type": "markdown",
   "metadata": {},
   "source": [
    "We see that `iter` depends on the use of `partial` such that `TextIOBase.Read()` can be a callable object without any parameters.\n",
    "\n",
    "## `for`-`else`\n",
    "\n",
    "We can use `for` and `enumerate` to find a list item by index using crappy C++ style:"
   ]
  },
  {
   "cell_type": "code",
   "execution_count": 37,
   "metadata": {},
   "outputs": [
    {
     "name": "stdout",
     "output_type": "stream",
     "text": [
      "crappy C++ style:\n",
      "2\n"
     ]
    }
   ],
   "source": [
    "colors = ['red', 'green', 'blue', 'yellow']\n",
    "\n",
    "print('crappy C++ style:')\n",
    "\n",
    "\n",
    "def find_cpp_style(seq, target):\n",
    "    found = False\n",
    "    for i, value in enumerate(seq):\n",
    "        if value == target:\n",
    "            found = True\n",
    "            break\n",
    "    if not found:\n",
    "        return -1\n",
    "    return i\n",
    "\n",
    "print(find_cpp_style(colors, 'blue'))"
   ]
  },
  {
   "cell_type": "markdown",
   "metadata": {},
   "source": [
    "Or we can the `for`-`else` construct:"
   ]
  },
  {
   "cell_type": "code",
   "execution_count": 40,
   "metadata": {},
   "outputs": [
    {
     "name": "stdout",
     "output_type": "stream",
     "text": [
      "cool Python style:\n",
      "2\n"
     ]
    }
   ],
   "source": [
    "print('cool Python style:')\n",
    "\n",
    "\n",
    "def find_py_style(seq, target):\n",
    "    for i, value in enumerate(seq):\n",
    "        if value == target:\n",
    "            break\n",
    "    else:\n",
    "        return -1\n",
    "    return i\n",
    "\n",
    "print(find_py_style(colors, 'blue'))"
   ]
  },
  {
   "cell_type": "markdown",
   "metadata": {},
   "source": [
    "Raymond Hettinger says that inside every `for` is an `if` and `goto` which makes the use of `else` with `for` kind of make sense.\n",
    "\n",
    "Raymond would prefer that instead of `for`-`else` we would have `for`-`nobreak`.\n",
    "\n",
    "## dictionary\n",
    "\n",
    "Raymond Hettinger says that mastering dictionaries is a _fundamental_ Python skill and he starts his Python classes with three days of work on dictionary relationships, counting, grouping and linking.\n",
    "\n",
    "The key-value relationship in a dictionary has been expressed in two ways."
   ]
  },
  {
   "cell_type": "code",
   "execution_count": 42,
   "metadata": {},
   "outputs": [
    {
     "name": "stdout",
     "output_type": "stream",
     "text": [
      "dictionary key-value immutable (default) relationship:\n",
      "matthew\n",
      "rachel\n",
      "raymond\n",
      "\n",
      "dictionary key-value mutable relationship:\n",
      "{'matthew': 'blue'}\n"
     ]
    }
   ],
   "source": [
    "d = {'matthew': 'blue', 'rachel': 'green', 'raymond': 'red'}\n",
    "\n",
    "print('dictionary key-value immutable (default) relationship:')\n",
    "\n",
    "for k in d:\n",
    "    print(k)\n",
    "\n",
    "print('\\ndictionary key-value mutable relationship:')\n",
    "\n",
    "for k in list(d.keys()):  # Python 3.x requires the use of list()\n",
    "    if k.startswith('r'):\n",
    "        del d[k]\n",
    "print(d)"
   ]
  },
  {
   "cell_type": "markdown",
   "metadata": {},
   "source": [
    "Explicitly printing out the relationship between keys and values has only one anti-pattern in Python 3.x:"
   ]
  },
  {
   "cell_type": "code",
   "execution_count": 44,
   "metadata": {},
   "outputs": [
    {
     "name": "stdout",
     "output_type": "stream",
     "text": [
      "dictionary key-value relationship (anti-pattern):\n",
      "('matthew', '-->', 'blue')\n",
      "\n",
      "dictionary key-value relationship:\n",
      "('matthew', '-->', 'blue')\n"
     ]
    }
   ],
   "source": [
    "print('dictionary key-value relationship (anti-pattern):')\n",
    "\n",
    "for k in d:\n",
    "    print(k, '-->', d[k])  # causes re-hashing with every lookup\n",
    "\n",
    "print('\\ndictionary key-value relationship:')\n",
    "\n",
    "for k, v in d.items():\n",
    "    print(k, '-->', v)"
   ]
  },
  {
   "cell_type": "markdown",
   "metadata": {},
   "source": [
    "The use of `items()` was replaced by `iteritems()` in Python 2.x because `items()` caused memory allocation(s) (tuple unpacking).\n",
    "\n",
    "In Python 3.x, `items()` is now the equivalent of `iteritems()`.\n",
    "\n",
    "In Python 3.x, we can generate a dictionary (`dict`) with `zip`, _linking_ two lists:"
   ]
  },
  {
   "cell_type": "code",
   "execution_count": 46,
   "metadata": {},
   "outputs": [
    {
     "name": "stdout",
     "output_type": "stream",
     "text": [
      "\n",
      "`dict` and `zip`:\n",
      "{'matthew': 'blue', 'rachel': 'green', 'raymond': 'red'}\n"
     ]
    }
   ],
   "source": [
    "print('\\n`dict` and `zip`:')\n",
    "\n",
    "names = ['raymond', 'rachel', 'matthew']\n",
    "colors = ['red', 'green', 'blue']\n",
    "\n",
    "print(dict(zip(names, colors)))"
   ]
  },
  {
   "cell_type": "markdown",
   "metadata": {},
   "source": [
    "Raymond Hettinger shows us two ways to count with a dictionary.\n",
    "\n",
    "First, we see the beginners way:"
   ]
  },
  {
   "cell_type": "code",
   "execution_count": 48,
   "metadata": {},
   "outputs": [
    {
     "name": "stdout",
     "output_type": "stream",
     "text": [
      "\n",
      "beginners counting:\n",
      "{'blue': 1, 'green': 2, 'red': 3}\n"
     ]
    }
   ],
   "source": [
    "colors = ['red', 'green', 'red', 'blue', 'green', 'red']\n",
    "\n",
    "print('\\nbeginners counting:')\n",
    "\n",
    "d = {}\n",
    "for color in colors:\n",
    "    if color not in d:\n",
    "        d[color] = 0\n",
    "    d[color] += 1\n",
    "print(d)"
   ]
  },
  {
   "cell_type": "markdown",
   "metadata": {},
   "source": [
    "Then we discover the `get()` method of `dict`:"
   ]
  },
  {
   "cell_type": "code",
   "execution_count": 50,
   "metadata": {},
   "outputs": [
    {
     "name": "stdout",
     "output_type": "stream",
     "text": [
      "\n",
      "counting with `dict.get()`:\n",
      "{'blue': 1, 'green': 2, 'red': 3}\n"
     ]
    }
   ],
   "source": [
    "print('\\ncounting with `dict.get()`:')\n",
    "\n",
    "d = {}\n",
    "for color in colors:\n",
    "    d[color] = d.get(color, 0) + 1\n",
    "print(d)"
   ]
  },
  {
   "cell_type": "markdown",
   "metadata": {},
   "source": [
    "Then we get more modern with a subclass of `dict`, the `defaultdict`:"
   ]
  },
  {
   "cell_type": "code",
   "execution_count": 52,
   "metadata": {},
   "outputs": [
    {
     "name": "stdout",
     "output_type": "stream",
     "text": [
      "\n",
      "counting with `defaultdict`:\n",
      "defaultdict(<type 'int'>, {'blue': 1, 'green': 2, 'red': 3})\n"
     ]
    }
   ],
   "source": [
    "from collections import defaultdict\n",
    "\n",
    "print('\\ncounting with `defaultdict`:')\n",
    "\n",
    "d = defaultdict(int)\n",
    "for color in colors:\n",
    "    d[color] += 1\n",
    "print(d)"
   ]
  },
  {
   "cell_type": "markdown",
   "metadata": {},
   "source": [
    "We have our traditional way of grouping:"
   ]
  },
  {
   "cell_type": "code",
   "execution_count": 54,
   "metadata": {},
   "outputs": [
    {
     "name": "stdout",
     "output_type": "stream",
     "text": [
      "\n",
      "traditional grouping (by string length):\n",
      "{5: ['roger', 'betty'], 6: ['rachel', 'judith'], 7: ['raymond', 'matthew', 'melissa', 'charlie']}\n"
     ]
    }
   ],
   "source": [
    "names = [\n",
    "    'raymond', 'rachel', 'matthew', 'roger', 'betty', 'melissa', 'judith',\n",
    "    'charlie'\n",
    "]\n",
    "\n",
    "print('\\ntraditional grouping (by string length):')\n",
    "\n",
    "d = {}\n",
    "for name in names:\n",
    "    key = len(name)  # grouping by string length\n",
    "    if key not in d:\n",
    "        d[key] = []\n",
    "    d[key].append(name)\n",
    "print(d)"
   ]
  },
  {
   "cell_type": "markdown",
   "metadata": {},
   "source": [
    "Then, we have our traditional, Python-specific way of grouping with `dict.setdefault()`:"
   ]
  },
  {
   "cell_type": "code",
   "execution_count": 56,
   "metadata": {},
   "outputs": [
    {
     "name": "stdout",
     "output_type": "stream",
     "text": [
      "traditional, Python-specific way of grouping:\n",
      "{5: ['roger', 'betty'], 6: ['rachel', 'judith'], 7: ['raymond', 'matthew', 'melissa', 'charlie']}\n"
     ]
    }
   ],
   "source": [
    "print('traditional, Python-specific way of grouping:')\n",
    "\n",
    "d = {}\n",
    "for name in names:\n",
    "    key = len(name)  # grouping by string length\n",
    "    d.setdefault(key, []).append(name)\n",
    "print(d)"
   ]
  },
  {
   "cell_type": "markdown",
   "metadata": {},
   "source": [
    "The modern way of grouping returns again to `defaultdict`:"
   ]
  },
  {
   "cell_type": "code",
   "execution_count": 58,
   "metadata": {},
   "outputs": [
    {
     "name": "stdout",
     "output_type": "stream",
     "text": [
      "modern way of grouping with `defaultdict`:\n",
      "defaultdict(<type 'list'>, {5: ['roger', 'betty'], 6: ['rachel', 'judith'], 7: ['raymond', 'matthew', 'melissa', 'charlie']})\n"
     ]
    }
   ],
   "source": [
    "print('modern way of grouping with `defaultdict`:')\n",
    "\n",
    "d = defaultdict(list)\n",
    "for name in names:\n",
    "    key = len(name)  # grouping by string length\n",
    "    d[key].append(name)\n",
    "print(d)"
   ]
  },
  {
   "cell_type": "markdown",
   "metadata": {},
   "source": [
    "Finally, we see that the linking dictionaries was traditionally involved with command-line argument parsing with `argparse`:"
   ]
  },
  {
   "cell_type": "code",
   "execution_count": 59,
   "metadata": {},
   "outputs": [
    {
     "name": "stdout",
     "output_type": "stream",
     "text": [
      "\n",
      "traditional, memory-intensive way of linking dictionaries:\n",
      "{'COMPIZ_BIN_PATH': '/usr/bin/', 'QT_QPA_PLATFORMTHEME': 'appmenu-qt5', 'XDG_GREETER_DATA_DIR': '/var/lib/lightdm-data/rasx', 'color': 'red', 'UPSTART_EVENTS': 'xsession started', 'TERM_PROGRAM_VERSION': '1.21.0', 'LESSOPEN': '| /usr/bin/lesspipe %s', 'UNITY_HAS_3D_SUPPORT': 'true', 'XDG_SESSION_TYPE': 'x11', 'QT_IM_MODULE': 'ibus', 'LOGNAME': 'rasx', 'USER': 'rasx', 'PATH': '/usr/local/bin:/usr/local/sbin:/usr/local/bin:/usr/sbin:/usr/bin:/sbin:/bin:/usr/games:/usr/local/games:/snap/bin:/home/rasx/appRoot/dotnet-script.0.13.0/dotnet-script/:/home/rasx/appRoot/dotnet-script.0.13.0/dotnet-script/', 'XDG_VTNR': '7', 'GNOME_KEYRING_CONTROL': '', 'VSCODE_IPC_HOOK': '/run/user/1000/vscode-e59f0211-1.21.0-main.sock', 'NODE_PATH': '/usr/lib/nodejs:/usr/lib/node_modules:/usr/share/javascript', 'DISPLAY': ':0', 'TERM_PROGRAM': 'vscode', 'LANG': 'en_US.UTF-8', 'TERM': 'xterm-color', 'SHELL': '/bin/bash', 'XDG_SESSION_PATH': '/org/freedesktop/DisplayManager/Session0', 'XAUTHORITY': '/home/rasx/.Xauthority', 'LANGUAGE': 'en_US', 'SESSION_MANAGER': 'local/songhay9lxv:@/tmp/.ICE-unix/3521,unix/songhay9lxv:/tmp/.ICE-unix/3521', 'SHLVL': '2', 'QT_LINUX_ACCESSIBILITY_ALWAYS_ON': '1', 'MANDATORY_PATH': '/usr/share/gconf/ubuntu.mandatory.path', 'QT_ACCESSIBILITY': '1', 'UNITY_DEFAULT_PROFILE': 'unity', 'QT4_IM_MODULE': 'xim', 'GNOME_DESKTOP_SESSION_ID': 'this-is-deprecated', 'CLUTTER_IM_MODULE': 'xim', 'SESSION': 'ubuntu', 'VSCODE_NODE_CACHED_DATA_DIR_34222': '/home/rasx/.config/Code/CachedData/9a199d77c82fcb82f39c68bb33c614af01c111ba', 'UPSTART_INSTANCE': '', 'SESSIONTYPE': 'gnome-session', 'XMODIFIERS': '@im=ibus', 'GIO_LAUNCHED_DESKTOP_FILE_PID': '34222', 'GPG_AGENT_INFO': '/home/rasx/.gnupg/S.gpg-agent:0:1', 'HOME': '/home/rasx', 'VSCODE_NLS_CONFIG': '{\"locale\":\"en-us\",\"availableLanguages\":{}}', 'GTK2_MODULES': 'overlay-scrollbar', 'XDG_SESSION_DESKTOP': 'ubuntu', 'GIO_LAUNCHED_DESKTOP_FILE': '/usr/share/applications/code.desktop', 'XDG_RUNTIME_DIR': '/run/user/1000', 'JPY_PARENT_PID': '39055', 'COMPIZ_CONFIG_PROFILE': 'ubuntu', 'SSH_AUTH_SOCK': '/run/user/1000/keyring/ssh', 'DESKTOP_SESSION': 'ubuntu', 'GDMSESSION': 'ubuntu', 'IM_CONFIG_PHASE': '1', 'UPSTART_JOB': 'unity7', 'user': 'guest', 'XDG_DATA_DIRS': '/usr/share/ubuntu:/usr/share/gnome:/usr/local/share:/usr/share:/var/lib/snapd/desktop:/var/lib/snapd/desktop', 'XDG_SEAT_PATH': '/org/freedesktop/DisplayManager/Seat0', 'XDG_CONFIG_DIRS': '/etc/xdg/xdg-ubuntu:/usr/share/upstart/xdg:/etc/xdg', 'XDG_CURRENT_DESKTOP': 'Unity', 'XDG_SESSION_ID': 'c2', 'DBUS_SESSION_BUS_ADDRESS': 'unix:abstract=/tmp/dbus-ZcT5a5P49m', '_': '/usr/local/bin/jupyter', 'GNOME_KEYRING_PID': '', 'GTK_IM_MODULE': 'ibus', 'VSCODE_PID': '34222', 'UPSTART_SESSION': 'unix:abstract=/com/ubuntu/upstart-session/1000/3261', 'LESSCLOSE': '/usr/bin/lesspipe %s %s', 'GTK_MODULES': 'gail:atk-bridge:unity-gtk-module', 'XDG_SEAT': 'seat0', 'PAGER': 'cat', 'GDM_LANG': 'en_US', 'CLICOLOR': '1', 'INSTANCE': '', 'PWD': '/home/rasx/sourceRoot/guido-van-r-snake', 'JOB': 'unity-settings-daemon', 'DESKTOP_STARTUP_ID': 'compiz-3789-songhay9lxv-/usr/share/code/code-13_TIME70654659', 'CHROME_BIN': '/usr/bin/chromium-browser', 'CHROME_DESKTOP': 'Code.desktop', 'XDG_MENU_PREFIX': 'gnome-', 'LS_COLORS': '', 'MPLBACKEND': 'module://ipykernel.pylab.backend_inline', 'DEFAULTS_PATH': '/usr/share/gconf/ubuntu.default.path', 'GIT_PAGER': 'cat'}\n",
      "\n",
      "modern way of linking dictionaries:\n"
     ]
    },
    {
     "ename": "ImportError",
     "evalue": "cannot import name ChainMap",
     "output_type": "error",
     "traceback": [
      "\u001b[0;31m---------------------------------------------------------------------------\u001b[0m",
      "\u001b[0;31mImportError\u001b[0m                               Traceback (most recent call last)",
      "\u001b[0;32m<ipython-input-59-ce5deace729d>\u001b[0m in \u001b[0;36m<module>\u001b[0;34m()\u001b[0m\n\u001b[1;32m     19\u001b[0m \u001b[0;32mprint\u001b[0m\u001b[0;34m(\u001b[0m\u001b[0;34m'\\nmodern way of linking dictionaries:'\u001b[0m\u001b[0;34m)\u001b[0m\u001b[0;34m\u001b[0m\u001b[0m\n\u001b[1;32m     20\u001b[0m \u001b[0;34m\u001b[0m\u001b[0m\n\u001b[0;32m---> 21\u001b[0;31m \u001b[0;32mfrom\u001b[0m \u001b[0mcollections\u001b[0m \u001b[0;32mimport\u001b[0m \u001b[0mChainMap\u001b[0m\u001b[0;34m\u001b[0m\u001b[0m\n\u001b[0m\u001b[1;32m     22\u001b[0m \u001b[0;34m\u001b[0m\u001b[0m\n\u001b[1;32m     23\u001b[0m \u001b[0md\u001b[0m \u001b[0;34m=\u001b[0m \u001b[0mChainMap\u001b[0m\u001b[0;34m(\u001b[0m\u001b[0mcommand_line_args\u001b[0m\u001b[0;34m,\u001b[0m \u001b[0mos\u001b[0m\u001b[0;34m.\u001b[0m\u001b[0menviron\u001b[0m\u001b[0;34m)\u001b[0m\u001b[0;34m\u001b[0m\u001b[0m\n",
      "\u001b[0;31mImportError\u001b[0m: cannot import name ChainMap"
     ]
    }
   ],
   "source": [
    "import argparse\n",
    "import os\n",
    "\n",
    "defaults = {'color': 'red', 'user': 'guest'}\n",
    "parser = argparse.ArgumentParser()\n",
    "parser.add_argument('-u', '--user')\n",
    "parser.add_argument('-c', '--color')\n",
    "namespace = parser.parse_args([])\n",
    "command_line_args = {k: v for k, v in vars(namespace).items() if v}\n",
    "\n",
    "print('\\ntraditional, memory-intensive way of linking dictionaries:')\n",
    "\n",
    "d = defaults.copy()\n",
    "d.update(os.environ)\n",
    "d.update(command_line_args)\n",
    "\n",
    "print(d)\n",
    "\n",
    "print('\\nmodern way of linking dictionaries:')\n",
    "\n",
    "from collections import ChainMap\n",
    "\n",
    "d = ChainMap(command_line_args, os.environ)\n",
    "\n",
    "print(d)"
   ]
  },
  {
   "cell_type": "markdown",
   "metadata": {},
   "source": [
    "## `namedtuple`\n",
    "\n",
    "Raymond Hettinger introduces the `namedtuple()` factory function in the context of `doctest` where the output of `doctest.testmod()` is a named tuple:"
   ]
  },
  {
   "cell_type": "code",
   "execution_count": 61,
   "metadata": {},
   "outputs": [
    {
     "name": "stdout",
     "output_type": "stream",
     "text": [
      "TestResults(failed=0, attempted=0)\n"
     ]
    }
   ],
   "source": [
    "import doctest\n",
    "\n",
    "print(doctest.testmod())"
   ]
  },
  {
   "cell_type": "markdown",
   "metadata": {},
   "source": [
    "We then replicate this output by defining our own named tuple:"
   ]
  },
  {
   "cell_type": "code",
   "execution_count": 63,
   "metadata": {},
   "outputs": [
    {
     "name": "stdout",
     "output_type": "stream",
     "text": [
      "TestResults(failed=0, attempted=4)\n"
     ]
    }
   ],
   "source": [
    "from collections import namedtuple\n",
    "\n",
    "TestResults = namedtuple('TestResults', ['failed', 'attempted'])\n",
    "\n",
    "print(TestResults(0, 4))"
   ]
  },
  {
   "cell_type": "markdown",
   "metadata": {},
   "source": [
    "## sequence unpacking"
   ]
  },
  {
   "cell_type": "code",
   "execution_count": 64,
   "metadata": {},
   "outputs": [
    {
     "name": "stdout",
     "output_type": "stream",
     "text": [
      "unpacking the c-language-neutral (crappy) way:\n",
      "('Raymond', 'Hettinger', 48, 'python@example.com')\n",
      "\n",
      "unpacking the Python way:\n",
      "('Raymond', 'Hettinger', 48, 'python@example.com')\n"
     ]
    }
   ],
   "source": [
    "p = 'Raymond', 'Hettinger', 0x30, 'python@example.com'\n",
    "\n",
    "print('unpacking the c-language-neutral (crappy) way:')\n",
    "\n",
    "fname = p[0]\n",
    "lname = p[1]\n",
    "age = p[2]\n",
    "email = p[3]\n",
    "\n",
    "print(fname, lname, age, email)\n",
    "\n",
    "print('\\nunpacking the Python way:')\n",
    "\n",
    "fname, lname, age, email = p\n",
    "\n",
    "print(fname, lname, age, email)"
   ]
  },
  {
   "cell_type": "markdown",
   "metadata": {},
   "source": [
    "## updating multiple variables"
   ]
  },
  {
   "cell_type": "code",
   "execution_count": 66,
   "metadata": {},
   "outputs": [
    {
     "name": "stdout",
     "output_type": "stream",
     "text": [
      "basic function:\n",
      "(0, '-->', 0)\n",
      "(1, '-->', 1)\n",
      "(2, '-->', 1)\n",
      "(3, '-->', 2)\n",
      "(4, '-->', 3)\n",
      "(5, '-->', 5)\n",
      "(6, '-->', 8)\n",
      "(7, '-->', 13)\n",
      "(8, '-->', 21)\n",
      "(9, '-->', 34)\n",
      "None\n",
      "\n",
      "modern function:\n",
      "(0, '-->', 0)\n",
      "(1, '-->', 1)\n",
      "(2, '-->', 1)\n",
      "(3, '-->', 2)\n",
      "(4, '-->', 3)\n",
      "(5, '-->', 5)\n",
      "(6, '-->', 8)\n",
      "(7, '-->', 13)\n",
      "(8, '-->', 21)\n",
      "(9, '-->', 34)\n",
      "None\n"
     ]
    }
   ],
   "source": [
    "def fibonacci_basic(n):\n",
    "    x = 0\n",
    "    y = 1\n",
    "    for i in range(n):\n",
    "        print(i, '-->', x)\n",
    "        t = y\n",
    "        y = x + y\n",
    "        x = t\n",
    "\n",
    "\n",
    "print('basic function:')\n",
    "print(fibonacci_basic(10))\n",
    "\n",
    "\n",
    "def fibonacci_modern(n):\n",
    "    x, y = 0, 1\n",
    "    for i in range(n):\n",
    "        print(i, '-->', x)\n",
    "        x, y = y, x + y # no temp variables!\n",
    "\n",
    "\n",
    "print('\\nmodern function:')\n",
    "print(fibonacci_modern(10))"
   ]
  },
  {
   "cell_type": "markdown",
   "metadata": {},
   "source": [
    "## join"
   ]
  },
  {
   "cell_type": "code",
   "execution_count": 68,
   "metadata": {},
   "outputs": [
    {
     "name": "stdout",
     "output_type": "stream",
     "text": [
      "do not do this:\n",
      "raymond, rachel, matthew, roger, betty, melissa, judith, charlie\n",
      "\n",
      "use `join()`:\n",
      "raymond, rachel, matthew, roger, betty, melissa, judith, charlie\n"
     ]
    }
   ],
   "source": [
    "names = [\n",
    "    'raymond', 'rachel', 'matthew', 'roger', 'betty', 'melissa', 'judith',\n",
    "    'charlie'\n",
    "]\n",
    "\n",
    "print('do not do this:')\n",
    "\n",
    "s = names[0]\n",
    "for name in names[1:]:\n",
    "    s += ', ' + name\n",
    "print(s)\n",
    "\n",
    "\n",
    "print('\\nuse `join()`:')\n",
    "\n",
    "print(', '.join(names))"
   ]
  },
  {
   "cell_type": "markdown",
   "metadata": {},
   "source": [
    "## `deque`"
   ]
  },
  {
   "cell_type": "code",
   "execution_count": 70,
   "metadata": {},
   "outputs": [
    {
     "name": "stdout",
     "output_type": "stream",
     "text": [
      "this is way too slow:\n",
      "['mark', 'matthew', 'roger', 'betty', 'melissa', 'judith', 'charlie']\n",
      "\n",
      "use the `deque` container instead:\n",
      "deque(['mark', 'matthew', 'roger', 'betty', 'melissa', 'judith', 'charlie'])\n"
     ]
    }
   ],
   "source": [
    "names = [\n",
    "    'raymond', 'rachel', 'matthew', 'roger', 'betty', 'melissa', 'judith',\n",
    "    'charlie'\n",
    "]\n",
    "\n",
    "print('this is way too slow:')\n",
    "\n",
    "del names[0]\n",
    "names.pop(0)\n",
    "names.insert(0, 'mark')\n",
    "\n",
    "print(names)\n",
    "\n",
    "print('\\nuse the `deque` container instead:')\n",
    "\n",
    "from collections import deque\n",
    "\n",
    "names = deque([\n",
    "    'raymond', 'rachel', 'matthew', 'roger', 'betty', 'melissa', 'judith',\n",
    "    'charlie'\n",
    "])\n",
    "\n",
    "del names[0]\n",
    "names.popleft()\n",
    "names.appendleft('mark')\n",
    "\n",
    "print(names)"
   ]
  },
  {
   "cell_type": "markdown",
   "metadata": {},
   "source": [
    "## urlopen and cache decorator"
   ]
  },
  {
   "cell_type": "code",
   "execution_count": 71,
   "metadata": {},
   "outputs": [
    {
     "ename": "ImportError",
     "evalue": "No module named request",
     "output_type": "error",
     "traceback": [
      "\u001b[0;31m---------------------------------------------------------------------------\u001b[0m",
      "\u001b[0;31mImportError\u001b[0m                               Traceback (most recent call last)",
      "\u001b[0;32m<ipython-input-71-0b75da783f69>\u001b[0m in \u001b[0;36m<module>\u001b[0;34m()\u001b[0m\n\u001b[0;32m----> 1\u001b[0;31m \u001b[0;32mimport\u001b[0m \u001b[0murllib\u001b[0m\u001b[0;34m.\u001b[0m\u001b[0mrequest\u001b[0m\u001b[0;34m\u001b[0m\u001b[0m\n\u001b[0m\u001b[1;32m      2\u001b[0m \u001b[0;32mfrom\u001b[0m \u001b[0mfunctools\u001b[0m \u001b[0;32mimport\u001b[0m \u001b[0mlru_cache\u001b[0m\u001b[0;34m\u001b[0m\u001b[0m\n\u001b[1;32m      3\u001b[0m \u001b[0;34m\u001b[0m\u001b[0m\n\u001b[1;32m      4\u001b[0m \u001b[0;34m\u001b[0m\u001b[0m\n\u001b[1;32m      5\u001b[0m \u001b[0;32mdef\u001b[0m \u001b[0mweb_lookup_old_school\u001b[0m\u001b[0;34m(\u001b[0m\u001b[0murl\u001b[0m\u001b[0;34m,\u001b[0m \u001b[0msaved\u001b[0m\u001b[0;34m=\u001b[0m\u001b[0;34m{\u001b[0m\u001b[0;34m}\u001b[0m\u001b[0;34m)\u001b[0m\u001b[0;34m:\u001b[0m\u001b[0;34m\u001b[0m\u001b[0m\n",
      "\u001b[0;31mImportError\u001b[0m: No module named request"
     ]
    }
   ],
   "source": [
    "import urllib.request\n",
    "from functools import lru_cache\n",
    "\n",
    "\n",
    "def web_lookup_old_school(url, saved={}):\n",
    "    if url in saved:\n",
    "        return saved[url]\n",
    "    with urllib.request.urlopen(url) as req:\n",
    "        page = req.read()\n",
    "        saved[url] = page\n",
    "        return page\n",
    "\n",
    "\n",
    "@lru_cache(maxsize=32)\n",
    "def web_lookup_modern(url):\n",
    "    with urllib.request.urlopen(url) as req:\n",
    "        return req.read()"
   ]
  }
 ],
 "metadata": {
  "kernelspec": {
   "display_name": "Python 3",
   "language": "python",
   "name": "python3"
  },
  "language_info": {
   "codemirror_mode": {
    "name": "ipython",
    "version": 2
   },
   "file_extension": ".py",
   "mimetype": "text/x-python",
   "name": "python",
   "nbconvert_exporter": "python",
   "pygments_lexer": "ipython2",
   "version": "2.7.12"
  }
 },
 "nbformat": 4,
 "nbformat_minor": 2
}
